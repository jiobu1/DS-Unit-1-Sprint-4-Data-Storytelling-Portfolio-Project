{
  "nbformat": 4,
  "nbformat_minor": 0,
  "metadata": {
    "colab": {
      "name": "Jisha Obukwelu_Unit 1_Data Storytelling Project.ipynb",
      "provenance": [],
      "collapsed_sections": [],
      "authorship_tag": "ABX9TyMYX8ZHJ3KHSK+YYD3ye/Ot",
      "include_colab_link": true
    },
    "kernelspec": {
      "name": "python3",
      "display_name": "Python 3"
    }
  },
  "cells": [
    {
      "cell_type": "markdown",
      "metadata": {
        "id": "view-in-github",
        "colab_type": "text"
      },
      "source": [
        "<a href=\"https://colab.research.google.com/github/jiobu1/DS-Unit-1-Sprint-4-Data-Storytelling-Portfolio-Project/blob/master/Jisha_Obukwelu_Unit_1_Data_Storytelling_Project.ipynb\" target=\"_parent\"><img src=\"https://colab.research.google.com/assets/colab-badge.svg\" alt=\"Open In Colab\"/></a>"
      ]
    },
    {
      "cell_type": "markdown",
      "metadata": {
        "id": "8byhlpvcSmik",
        "colab_type": "text"
      },
      "source": [
        "#**ATLANTA ARRESTS RECORDS FOR THE PAST DECADE**\n",
        "#**2009-2019**"
      ]
    },
    {
      "cell_type": "markdown",
      "metadata": {
        "id": "z2zHox6CSpOo",
        "colab_type": "text"
      },
      "source": [
        "####Loading Libraries "
      ]
    },
    {
      "cell_type": "code",
      "metadata": {
        "id": "A6S43El1Sfyw",
        "colab_type": "code",
        "colab": {}
      },
      "source": [
        "#Import different libraries\n",
        "import pandas as pd\n",
        "import numpy as np\n",
        "\n",
        "import matplotlib.pyplot as plt\n",
        "import matplotlib.cm as mplcm\n",
        "import matplotlib.colors as colors\n",
        "import seaborn as sns\n",
        "\n",
        "# Plotly imports\n",
        "import plotly\n",
        "import plotly.graph_objs as go\n",
        "from plotly.offline import init_notebook_mode, plot, iplot\n",
        "\n",
        "from scipy import stats \n",
        "from scipy.stats import ttest_ind, ttest_ind_from_stats, ttest_rel\n",
        "from scipy.stats import chisquare\n",
        "from scipy.stats import normaltest\n",
        "from scipy.stats import ks_2samp"
      ],
      "execution_count": 0,
      "outputs": []
    },
    {
      "cell_type": "markdown",
      "metadata": {
        "id": "Y5sKeSbYSzhO",
        "colab_type": "text"
      },
      "source": [
        "####Loading Directories"
      ]
    },
    {
      "cell_type": "code",
      "metadata": {
        "id": "tLRQL3bGS0Q6",
        "colab_type": "code",
        "colab": {}
      },
      "source": [
        "# #Loading files\n",
        "# from google.colab import files\n",
        "# upload = files.upload()"
      ],
      "execution_count": 0,
      "outputs": []
    },
    {
      "cell_type": "markdown",
      "metadata": {
        "id": "khxm-BqXS4M4",
        "colab_type": "text"
      },
      "source": [
        "Initially, I was working with this file locally. I was able to use command line to push the file to github (after installing their large file package - git lfs)\n",
        "\n",
        "Links:\n",
        "\n",
        "https://help.github.com/en/github/authenticating-to-github/adding-a-new-ssh-key-to-your-github-account\n",
        "https://help.github.com/en/github/managing-large-files/working-with-large-files\n",
        "https://git-lfs.github.com/\n",
        "https://github.com/git-lfs/git-lfs/releases/tag/v2.10.0"
      ]
    },
    {
      "cell_type": "code",
      "metadata": {
        "id": "JLIo48uhS5WW",
        "colab_type": "code",
        "colab": {}
      },
      "source": [
        "url = \"https://raw.githubusercontent.com/jiobu1/DS-Unit-1-Sprint-4-Data-Storytelling-Portfolio-Project/master/COBRA-2009-2019.csv\""
      ],
      "execution_count": 0,
      "outputs": []
    },
    {
      "cell_type": "code",
      "metadata": {
        "id": "qZFf-gOYS9MQ",
        "colab_type": "code",
        "colab": {}
      },
      "source": [
        "arrests = pd.read_csv(url)\n",
        "                    \n",
        "#did not pass through dtype becasue this deleted a lot of the information"
      ],
      "execution_count": 0,
      "outputs": []
    },
    {
      "cell_type": "markdown",
      "metadata": {
        "id": "6ZfhI5sES-W4",
        "colab_type": "text"
      },
      "source": [
        "####Exploring Data"
      ]
    },
    {
      "cell_type": "code",
      "metadata": {
        "id": "TSb1_92_TBfi",
        "colab_type": "code",
        "colab": {}
      },
      "source": [
        "arrests.shape"
      ],
      "execution_count": 0,
      "outputs": []
    },
    {
      "cell_type": "code",
      "metadata": {
        "id": "OQWrCiHpTDgH",
        "colab_type": "code",
        "colab": {}
      },
      "source": [
        "arrests.head()"
      ],
      "execution_count": 0,
      "outputs": []
    },
    {
      "cell_type": "markdown",
      "metadata": {
        "id": "FTV1hFRyTHV1",
        "colab_type": "text"
      },
      "source": [
        "## Data Cleaning"
      ]
    },
    {
      "cell_type": "code",
      "metadata": {
        "id": "qpR188jTTIPx",
        "colab_type": "code",
        "colab": {}
      },
      "source": [
        "arrests[['UCR #', 'IBR Code']].nunique()"
      ],
      "execution_count": 0,
      "outputs": []
    },
    {
      "cell_type": "code",
      "metadata": {
        "id": "nHcKaHkkTK7J",
        "colab_type": "code",
        "colab": {}
      },
      "source": [
        "#Choosing columns\n",
        "arrests = arrests[['Report Date', 'Occur Date', 'Occur Time',\n",
        "                   'Beat', 'Location', 'Shift Occurence', 'Location Type', \n",
        "                   'UCR Literal', 'UCR #', 'IBR Code', 'Neighborhood', 'NPU', \n",
        "                   'Latitude','Longitude']]\n",
        "arrests.head()"
      ],
      "execution_count": 0,
      "outputs": []
    },
    {
      "cell_type": "code",
      "metadata": {
        "id": "qBIg7YpbTM0V",
        "colab_type": "code",
        "colab": {}
      },
      "source": [
        "arrests.shape"
      ],
      "execution_count": 0,
      "outputs": []
    },
    {
      "cell_type": "markdown",
      "metadata": {
        "id": "qo3qMlEkTP_3",
        "colab_type": "text"
      },
      "source": [
        "####Still cleaning data\n",
        "* Analyzing how many null values are in the dataframe "
      ]
    },
    {
      "cell_type": "code",
      "metadata": {
        "id": "njeUUw8HTPN3",
        "colab_type": "code",
        "colab": {}
      },
      "source": [
        "arrests.isnull().sum()\n",
        "#Not sure if I want to delete null functions just yet"
      ],
      "execution_count": 0,
      "outputs": []
    },
    {
      "cell_type": "markdown",
      "metadata": {
        "id": "1MZCpsj6TVQL",
        "colab_type": "text"
      },
      "source": [
        "##**Exploration**"
      ]
    },
    {
      "cell_type": "code",
      "metadata": {
        "id": "Q9ZG8tRwTUm2",
        "colab_type": "code",
        "colab": {}
      },
      "source": [
        "arrests.head()"
      ],
      "execution_count": 0,
      "outputs": []
    },
    {
      "cell_type": "code",
      "metadata": {
        "id": "X80uXpyoTa3m",
        "colab_type": "code",
        "colab": {}
      },
      "source": [
        "arrests.describe()"
      ],
      "execution_count": 0,
      "outputs": []
    },
    {
      "cell_type": "code",
      "metadata": {
        "id": "UIpe51ibTqea",
        "colab_type": "code",
        "colab": {}
      },
      "source": [
        "arrests.describe(exclude  = 'number')"
      ],
      "execution_count": 0,
      "outputs": []
    },
    {
      "cell_type": "code",
      "metadata": {
        "id": "tTn3LWkKTrzW",
        "colab_type": "code",
        "colab": {}
      },
      "source": [
        "sns.pairplot(arrests, hue = 'UCR Literal');"
      ],
      "execution_count": 0,
      "outputs": []
    },
    {
      "cell_type": "markdown",
      "metadata": {
        "id": "bIQtVqM6T-TW",
        "colab_type": "text"
      },
      "source": [
        "###**Has crime gone down?**"
      ]
    },
    {
      "cell_type": "markdown",
      "metadata": {
        "id": "_dO3PJnbUKat",
        "colab_type": "text"
      },
      "source": [
        "1.   Crime increase/decrease by years\n",
        "2.   Specific crimes by year\n",
        "3.   Crime by the time of year"
      ]
    },
    {
      "cell_type": "code",
      "metadata": {
        "id": "Xghc-YOiUBCA",
        "colab_type": "code",
        "colab": {}
      },
      "source": [
        "#Parsing dates into years and months"
      ],
      "execution_count": 0,
      "outputs": []
    },
    {
      "cell_type": "markdown",
      "metadata": {
        "id": "pAIHiTYvUE14",
        "colab_type": "text"
      },
      "source": [
        "##### **Creating New Features**"
      ]
    },
    {
      "cell_type": "code",
      "metadata": {
        "id": "3sDhyTSfUD8A",
        "colab_type": "code",
        "colab": {}
      },
      "source": [
        "Using occur date instead of report date or possible date\n",
        "arrests['Occur Date'].head()"
      ],
      "execution_count": 0,
      "outputs": []
    },
    {
      "cell_type": "code",
      "metadata": {
        "id": "GMTT9-1patZg",
        "colab_type": "code",
        "colab": {}
      },
      "source": [
        "#arrests['Occur Date'] = pd.to_datetime(arrests['Occur Date'], infer_datetime_format=True) This create a SetCopyWarning\n",
        "arrests['Occur Date'] = arrests['Occur Date'].apply(pd.to_datetime)"
      ],
      "execution_count": 0,
      "outputs": []
    },
    {
      "cell_type": "code",
      "metadata": {
        "id": "NGsbfNBCavkT",
        "colab_type": "code",
        "colab": {}
      },
      "source": [
        "arrests['Occur_Year'] = arrests['Occur Date'].dt.year\n",
        "arrests['Occur_Month'] = arrests['Occur Date'].dt.month"
      ],
      "execution_count": 0,
      "outputs": []
    },
    {
      "cell_type": "markdown",
      "metadata": {
        "id": "rG6C5Xe0ayIZ",
        "colab_type": "text"
      },
      "source": [
        "####**Crime increase/decrease by years**"
      ]
    },
    {
      "cell_type": "code",
      "metadata": {
        "id": "k4pusgpma1TD",
        "colab_type": "code",
        "colab": {}
      },
      "source": [
        "# Not including 2020 \n",
        "year = arrests['Occur_Year'].value_counts()[:11].to_dict()\n",
        "year"
      ],
      "execution_count": 0,
      "outputs": []
    },
    {
      "cell_type": "code",
      "metadata": {
        "id": "fIzxxdRsa4on",
        "colab_type": "code",
        "colab": {}
      },
      "source": [
        "# sorted by key,  a list of tuples\n",
        "lists = sorted(year.items()) \n",
        "\n",
        "# unpack a list of pairs into two tuples\n",
        "x, y = zip(*lists) \n",
        "\n",
        "# fig size\n",
        "fig, ax = plt.subplots(figsize = (13, 5))\n",
        "fig.facecolor = 'white'\n",
        "\n",
        "# graphing line\n",
        "plt.plot(x, y, marker = 'o', markerfacecolor='blue')\n",
        "\n",
        "# labeling graph\n",
        "plt.text (x = 2012, \n",
        "          y = 41000, \n",
        "          s = 'Atlanta Crime Statistics', \n",
        "          fontsize = 18, \n",
        "          fontweight = 'bold')\n",
        "\n",
        "plt.xlabel('Years', fontsize = 12, fontweight = 'bold')\n",
        "plt.ylabel('Crime', fontsize = 12, fontweight = 'bold')\n",
        "\n",
        "# labeling data\n",
        "for i, txt in enumerate(y):\n",
        "    plt.annotate(txt, (x[i], y[i]))\n",
        "\n",
        "plt.xticks (range(2009, 2020, 1))\n",
        "\n",
        "plt.show()"
      ],
      "execution_count": 0,
      "outputs": []
    },
    {
      "cell_type": "markdown",
      "metadata": {
        "id": "8zTT2QHXa8et",
        "colab_type": "text"
      },
      "source": [
        "From this graph we can see that overall crime has been down but does this reflect across the board for crimes, or are some crimes becoming more or less prevalent?"
      ]
    },
    {
      "cell_type": "markdown",
      "metadata": {
        "id": "jyUVdVb0bBBs",
        "colab_type": "text"
      },
      "source": [
        "###**Have specific crimes gone down?**"
      ]
    },
    {
      "cell_type": "markdown",
      "metadata": {
        "id": "FNMVnVcFbCyG",
        "colab_type": "text"
      },
      "source": [
        "#### **Has all crime been declining?**"
      ]
    },
    {
      "cell_type": "code",
      "metadata": {
        "id": "uhpGm1-4a9fo",
        "colab_type": "code",
        "colab": {}
      },
      "source": [
        "arrests['UCR Literal'].value_counts()"
      ],
      "execution_count": 0,
      "outputs": []
    },
    {
      "cell_type": "code",
      "metadata": {
        "id": "vTwskkcjbJ6C",
        "colab_type": "code",
        "colab": {}
      },
      "source": [
        "#Calculating  specific crimes by years\n",
        "crime_year = pd.crosstab(arrests['Occur_Year'], arrests['UCR Literal'])\n",
        "\n",
        "crime_year  = crime_year.drop([1916, 1920, 1970, 1973, 1976,\t1979, 1980,\t1991, \n",
        "                 1993, 2000,\t2001,\t2003,\t2004,\t2005,\t2006, 2007,\t2008])"
      ],
      "execution_count": 0,
      "outputs": []
    },
    {
      "cell_type": "code",
      "metadata": {
        "id": "MxTdII5MbPAq",
        "colab_type": "code",
        "colab": {}
      },
      "source": [
        "chi_squared, p_value, dof, expected = stats.chi2_contingency(crime_year)\n",
        "print('Chi2:',chi_squared,'\\n', 'P-Value:', p_value,'\\n', 'DOF:',dof,'\\n')"
      ],
      "execution_count": 0,
      "outputs": []
    },
    {
      "cell_type": "markdown",
      "metadata": {
        "id": "NMFInLXwbP6h",
        "colab_type": "text"
      },
      "source": [
        "According to the chi-squared test, we get a p-value of 0. This means that crime rate and year are not random but there seems to be a correlation between the years and the crime. This means that we will have to dig further to see which crimes have increased or decreased over the years."
      ]
    },
    {
      "cell_type": "code",
      "metadata": {
        "id": "oQD6xNXubrCZ",
        "colab_type": "code",
        "colab": {}
      },
      "source": [
        "crime_year"
      ],
      "execution_count": 0,
      "outputs": []
    },
    {
      "cell_type": "code",
      "metadata": {
        "id": "UTIfuF1FbuAa",
        "colab_type": "code",
        "colab": {}
      },
      "source": [
        "# Playing with loop to generate both lines and labels\n",
        "plt.style.use('fivethirtyeight')\n",
        "plt.figure(figsize = (10, 8))\n",
        "plt.backgroundcolor = '#f0f0f0'\n",
        "\n",
        "# Creating line plots\n",
        "plot_points = []\n",
        "\n",
        "crimes = crime_year.columns\n",
        "\n",
        "colors_array = ['#003f5c','#2f4b7c','#665191','#a05195',\n",
        "          '#d45087','#f95d6a','#ff7c43','#ffa600', \n",
        "          'black', 'purple', 'green']\n",
        "\n",
        "for crime, color in zip(crimes, colors_array):\n",
        "    points = plt.plot(crime_year[crime], marker='*', color = color, lw=1)\n",
        "    plot_points.append(points)\n",
        "\n",
        "plot_points;\n",
        "\n",
        "# Title, Axes\n",
        "plt.title (\"Crime Rates in Atlanta over the Past Decade\",\n",
        "          fontsize = 16,\n",
        "          fontweight = 'bold', \n",
        "          loc = 'left');\n",
        "\n",
        "plt.xticks(range(2009, 2020, 1 ))\n",
        "plt.yticks(range(0, 11000, 1000))\n",
        "\n",
        "#Sometimes shows up and somethimes does not. \n",
        "plt.xlabel = ('Years')\n",
        "plt.ylabel = ('Arrests')\n",
        "\n",
        "#Labeling Lines\n",
        "text = []\n",
        "\n",
        "x_coordinates = [2013.1, 2010.1, 2012.1, 2012.5, 2009.5, 2013, 2014.5, 2013.5, 2011.1, 2010.1, 2016.1]\n",
        "y_coordinates = [2550, 5200, 1000, 4800, 100, 9800, 7000, -10, 400, 2100, 400]\n",
        "labels = ['Aggrevated Assault', 'Auto Theft', 'Burglary - Nonresidential', \n",
        "          'Burglary - Residential', '', 'Larceny from Vehicle', 'Larceny Non-Vehicle', \n",
        "          '', 'Robbery - Commercial', 'Robbery - Pedestrian', 'Robbery - Residential']\n",
        "rotations = [-2, 6, 3, -17, 0, 5, -16, 0, 0, 2, -1]\n",
        "\n",
        "\n",
        "for x, y, label, color, rotation in zip(x_coordinates, y_coordinates, labels, colors_array, rotations):\n",
        "  position = plt.text(x = x, y = y, s = label , color = color, fontsize = 9, weight = 'bold', rotation = rotation)\n",
        "  text.append(position)\n",
        "\n",
        "text;\n",
        "\n",
        "#Two Other Labels\n",
        "plt.text(x = 2009.5, y = 100, s = 'Homicide', color = colors_array[4], \n",
        "         fontsize = 9,  weight = 'bold', backgroundcolor = '#f0f0f0', rotation = 0)\n",
        "plt.text(x = 2013.5, y = -15, s = 'Manslaughter', color = colors_array[7], \n",
        "         fontsize = 9,  weight = 'bold', backgroundcolor = '#f0f0f0', rotation = 0 )\n",
        "\n",
        "\n",
        "plt.show()"
      ],
      "execution_count": 0,
      "outputs": []
    },
    {
      "cell_type": "code",
      "metadata": {
        "id": "LHWd1js6b2m_",
        "colab_type": "code",
        "colab": {}
      },
      "source": [
        "types = pd.DataFrame(arrests.groupby(by = ['Occur_Year','UCR Literal']).size()).unstack('Occur_Year')\n",
        "types = types.reset_index(level = ['UCR Literal'])\n",
        "types[(0,'Change')] = (types[(0, 2019)] - types[(0, 2018)])/types[(0, 2018)]*100"
      ],
      "execution_count": 0,
      "outputs": []
    },
    {
      "cell_type": "code",
      "metadata": {
        "id": "yThGw-L8b5AJ",
        "colab_type": "code",
        "colab": {}
      },
      "source": [
        "types.loc[:,[('UCR Literal', ''),(0,'Change')]]"
      ],
      "execution_count": 0,
      "outputs": []
    },
    {
      "cell_type": "markdown",
      "metadata": {
        "id": "_MQYd9w0b84e",
        "colab_type": "text"
      },
      "source": [
        "Overall crime might have been on a downward trajectory but several types of crime have rise - aggravated assault (12%), non-vehicle larceny (4%), homicide(18%), and commercial (9%) and residential (10%) burglary."
      ]
    },
    {
      "cell_type": "markdown",
      "metadata": {
        "id": "XShQMPxhgA9f",
        "colab_type": "text"
      },
      "source": [
        "### **Neighborhood**"
      ]
    },
    {
      "cell_type": "markdown",
      "metadata": {
        "id": "r_KYKlzIqEdM",
        "colab_type": "text"
      },
      "source": [
        "### **Looking at Crime in 2019**\n",
        "Creating a plotly.scatter_mapbox of crime in Atlanta for 2019"
      ]
    },
    {
      "cell_type": "code",
      "metadata": {
        "id": "YJYSHr_CqEJm",
        "colab_type": "code",
        "colab": {}
      },
      "source": [
        "!pip install chart_studio\n",
        "import chart_studio"
      ],
      "execution_count": 0,
      "outputs": []
    },
    {
      "cell_type": "code",
      "metadata": {
        "id": "pELXamo-p9bS",
        "colab_type": "code",
        "colab": {}
      },
      "source": [
        "condition = arrests['Occur_Year'] == 2019\n",
        "crime_2019 = arrests[condition]\n",
        "crime_2019"
      ],
      "execution_count": 0,
      "outputs": []
    },
    {
      "cell_type": "code",
      "metadata": {
        "id": "AzK4wcEGqQ1B",
        "colab_type": "code",
        "colab": {}
      },
      "source": [
        "import plotly.express as px\n",
        "\n",
        "fig = px.scatter_mapbox(crime_2019, lat='Latitude', lon='Longitude', color='UCR Literal', opacity=1.0)\n",
        "fig.update_layout(mapbox_style='stamen-terrain')\n",
        "fig.show()"
      ],
      "execution_count": 0,
      "outputs": []
    },
    {
      "cell_type": "markdown",
      "metadata": {
        "id": "vQKEM9zxqTea",
        "colab_type": "text"
      },
      "source": [
        "####Creating an Interactive Plotly Graph"
      ]
    },
    {
      "cell_type": "code",
      "metadata": {
        "id": "Ajm23GNkqXr6",
        "colab_type": "code",
        "colab": {}
      },
      "source": [
        "# username = '' # your username\n",
        "# api_key =  '' # your api key - go to profile > settings > regenerate key\n",
        "# chart_studio.tools.set_credentials_file(username=username, api_key=api_key)"
      ],
      "execution_count": 0,
      "outputs": []
    },
    {
      "cell_type": "code",
      "metadata": {
        "id": "e6Nk6roUqZt-",
        "colab_type": "code",
        "colab": {}
      },
      "source": [
        "# import chart_studio.plotly as py\n",
        "# py.plot(fig, filename = 'index.html', auto_open=True)"
      ],
      "execution_count": 0,
      "outputs": []
    },
    {
      "cell_type": "markdown",
      "metadata": {
        "id": "ch64B4GLqe4J",
        "colab_type": "text"
      },
      "source": [
        "Did not get to do this because my file was too large"
      ]
    },
    {
      "cell_type": "code",
      "metadata": {
        "id": "GGutaGmzqkwc",
        "colab_type": "code",
        "colab": {}
      },
      "source": [
        "import plotly.io as pio\n",
        "pio.write_html(fig, file = 'index.html', auto_open=True)"
      ],
      "execution_count": 0,
      "outputs": []
    },
    {
      "cell_type": "code",
      "metadata": {
        "id": "MUWqlgVFqmma",
        "colab_type": "code",
        "colab": {}
      },
      "source": [
        "import chart_studio.tools as tls\n",
        "tls.get_embed('https://plot.ly/~jiobu/1/') #change to your url"
      ],
      "execution_count": 0,
      "outputs": []
    },
    {
      "cell_type": "markdown",
      "metadata": {
        "id": "WUD7Cmzmqq61",
        "colab_type": "text"
      },
      "source": [
        "Source:https://towardsdatascience.com/how-to-create-a-plotly-visualization-and-embed-it-on-websites-517c1a78568b"
      ]
    },
    {
      "cell_type": "markdown",
      "metadata": {
        "id": "FYAbuVK6gbhr",
        "colab_type": "text"
      },
      "source": [
        "#### **Crime by neighborhoods**"
      ]
    },
    {
      "cell_type": "code",
      "metadata": {
        "id": "NqHu1gQ5ggKR",
        "colab_type": "code",
        "colab": {}
      },
      "source": [
        "# Too many neighborhoods to evaluate\n",
        "# Will look at top 10"
      ],
      "execution_count": 0,
      "outputs": []
    },
    {
      "cell_type": "code",
      "metadata": {
        "id": "XdAolU6jglXd",
        "colab_type": "code",
        "colab": {}
      },
      "source": [
        "arrests['Neighborhood'].value_counts()[:10]"
      ],
      "execution_count": 0,
      "outputs": []
    },
    {
      "cell_type": "code",
      "metadata": {
        "id": "nmO_8Jf_gnSD",
        "colab_type": "code",
        "colab": {}
      },
      "source": [
        "areas = arrests['Neighborhood'].unique()\n",
        "list_to_remove = ['Downtown','Midtown','Old Fourth Ward','West End','Lenox',\n",
        "                  'North Buckhead ', 'Greenbriar','Vine City', 'Sylvan Hills',\n",
        "                  'Grant Park']\n",
        "\n",
        "final_list= list(set(areas).difference(set(list_to_remove)))\n",
        "final_list.pop(0)\n",
        "final_list.remove('North Buckhead')\n",
        "final_list;"
      ],
      "execution_count": 0,
      "outputs": []
    },
    {
      "cell_type": "code",
      "metadata": {
        "id": "J8Bp9Tsfgph6",
        "colab_type": "code",
        "colab": {}
      },
      "source": [
        "#Checking that the top 10 neighborhoods are not in the final list to be deleted.\n",
        "'Vine City' in final_list"
      ],
      "execution_count": 0,
      "outputs": []
    },
    {
      "cell_type": "code",
      "metadata": {
        "id": "IUqlEZtugr5d",
        "colab_type": "code",
        "colab": {}
      },
      "source": [
        "neighborhood = pd.crosstab(arrests['Neighborhood'], arrests['Occur_Year'])\n",
        "neighborhood = neighborhood.drop(final_list);"
      ],
      "execution_count": 0,
      "outputs": []
    },
    {
      "cell_type": "code",
      "metadata": {
        "id": "_69vhTpvgt7n",
        "colab_type": "code",
        "colab": {}
      },
      "source": [
        "neighborhood = neighborhood.T.drop([1916, 1920, 1970, 1973, 1976,\t1979, 1980,\t1991, \n",
        "                                    1993, 2000,\t2001,\t2003,\t2004,\t2005,\t2006, 2007,\t2008])\n",
        "neighborhood"
      ],
      "execution_count": 0,
      "outputs": []
    },
    {
      "cell_type": "markdown",
      "metadata": {
        "id": "CyGiJslzgxFZ",
        "colab_type": "text"
      },
      "source": [
        "According to this chart you can see that 3 out of these top 10 neighborhoods have seen a surge in crime in 2019 - Grant Park, Midtown and Old Fourth Ward"
      ]
    },
    {
      "cell_type": "code",
      "metadata": {
        "id": "sLUmADzngzuu",
        "colab_type": "code",
        "colab": {}
      },
      "source": [
        "#Plot figure\n",
        "plt.figure(figsize = (10, 8))\n",
        "ax = sns.lineplot(data = neighborhood, hue = 'Neighborhood', dashes= False, legend='brief', lw = 1)\n",
        "plt.legend(fontsize = 10,  loc = 'best')\n",
        "\n",
        "# Title, Axes\n",
        "plt.title (\"Change in Crime in Speicific Neighborhoods\",\n",
        "          fontsize = 16,\n",
        "          fontweight = 'bold', \n",
        "          loc = 'left');\n",
        "\n",
        "plt.xticks(range(2009, 2020, 1 ))\n",
        "plt.yticks(range(0, 3500, 500))\n",
        "\n",
        "#Sometimes shows up and somethimes does not. \n",
        "ax.set(xlabel='Years', ylabel='Arrests')\n",
        "\n",
        "plt.show()"
      ],
      "execution_count": 0,
      "outputs": []
    },
    {
      "cell_type": "markdown",
      "metadata": {
        "id": "1CG2sXE0g4u-",
        "colab_type": "text"
      },
      "source": [
        "#### **Further Analysis of Crime** \n",
        "Looking specifically at neighborhoods where crime has risen in the last year. "
      ]
    },
    {
      "cell_type": "code",
      "metadata": {
        "id": "rA9JaMZRhBw6",
        "colab_type": "code",
        "colab": {}
      },
      "source": [
        "condition = (arrests['Neighborhood']=='Grant Park')|(arrests['Neighborhood']=='Midtown') | (arrests['Neighborhood']=='Old Fourth Ward')\n",
        "rise = arrests[condition]\n",
        "rise.head()"
      ],
      "execution_count": 0,
      "outputs": []
    },
    {
      "cell_type": "code",
      "metadata": {
        "id": "svlPtfadhHt5",
        "colab_type": "code",
        "colab": {}
      },
      "source": [
        "#Calculating  specific crimes by years\n",
        "rise_crime = pd.crosstab(rise['Occur_Year'], rise['UCR Literal'])\n",
        "\n",
        "rise_crime  = rise_crime.drop([1916, 1976, 1993, 2004, 2007, 2008])\n",
        "\n",
        "rise_crime"
      ],
      "execution_count": 0,
      "outputs": []
    },
    {
      "cell_type": "code",
      "metadata": {
        "id": "gaboFRechKwE",
        "colab_type": "code",
        "colab": {}
      },
      "source": [
        "plt.figure(figsize = (10, 8))\n",
        "ax = sns.lineplot(data = rise_crime, hue = 'Neighborhood', dashes= False, legend='brief', lw = 1)\n",
        "ax.legend(loc='upper center', bbox_to_anchor=(1, 1), shadow=True, ncol=1, fontsize = 9)\n",
        "\n",
        "# Title, Axes\n",
        "plt.title (\"Change in Crime in Speicific Neighborhoods\",\n",
        "          fontsize = 16,\n",
        "          fontweight = 'bold', \n",
        "          loc = 'left');\n",
        "\n",
        "plt.xticks(range(2009, 2020, 1 ))\n",
        "plt.yticks(range(0, 1800, 250))\n",
        "\n",
        "#Sometimes shows up and somethimes does not. \n",
        "ax.set(xlabel='Years', ylabel='Arrests')\n",
        "\n",
        "# Title, Axes\n",
        "plt.title (\"Crime Rise?\",\n",
        "          fontsize = 16,\n",
        "          fontweight = 'bold', \n",
        "          loc = 'left');\n",
        "\n",
        "plt.text (x = 2008.5, y = 1900,  s = 'Looking at crime in neighborhoods where there has been an increase in the last year', \n",
        "          color = 'black', fontsize = 12)\n",
        "\n",
        "plt.show ()"
      ],
      "execution_count": 0,
      "outputs": []
    },
    {
      "cell_type": "markdown",
      "metadata": {
        "id": "txEMC14xhOq8",
        "colab_type": "text"
      },
      "source": [
        "According to the graph, 8 out of the 10 reported crimes have increased in these neighborhoods in the past year."
      ]
    },
    {
      "cell_type": "markdown",
      "metadata": {
        "id": "nGQSR3SNhUs9",
        "colab_type": "text"
      },
      "source": [
        "#### **Looking Deeper**\n",
        "Taking a look to see which crimes increased and by how much in these neighborhoods."
      ]
    },
    {
      "cell_type": "code",
      "metadata": {
        "id": "xmUk6rLKhZ-i",
        "colab_type": "code",
        "colab": {}
      },
      "source": [
        "condition_year = (rise['Occur_Year'] == 2019) |(rise['Occur_Year'] == 2018)"
      ],
      "execution_count": 0,
      "outputs": []
    },
    {
      "cell_type": "code",
      "metadata": {
        "id": "mxBq_n_rheyF",
        "colab_type": "code",
        "colab": {}
      },
      "source": [
        "rise_year = rise[condition_year]\n",
        "rise_year"
      ],
      "execution_count": 0,
      "outputs": []
    },
    {
      "cell_type": "code",
      "metadata": {
        "id": "rU8IhAsVhipx",
        "colab_type": "code",
        "colab": {}
      },
      "source": [
        "test = rise_year[['Occur_Year','Neighborhood','UCR Literal']]\n",
        "increase = pd.DataFrame(test.groupby(by = ['Occur_Year','UCR Literal']).size()).unstack('Occur_Year')\n",
        "increaseT = increase.reset_index(level = ['UCR Literal'])\n",
        "increaseT[(0,'Change')] = (increaseT[(0, 2019)] - increaseT[(0, 2018)])/increaseT[(0, 2018)]*100"
      ],
      "execution_count": 0,
      "outputs": []
    },
    {
      "cell_type": "code",
      "metadata": {
        "id": "TNMI0PsAhjrT",
        "colab_type": "code",
        "colab": {}
      },
      "source": [
        "increaseT"
      ],
      "execution_count": 0,
      "outputs": []
    },
    {
      "cell_type": "markdown",
      "metadata": {
        "id": "kUp7c-0Asf19",
        "colab_type": "text"
      },
      "source": [
        "## **Other Questions**"
      ]
    },
    {
      "cell_type": "markdown",
      "metadata": {
        "id": "g3qVJl4fcdJx",
        "colab_type": "text"
      },
      "source": [
        "### **Time**"
      ]
    },
    {
      "cell_type": "markdown",
      "metadata": {
        "id": "MhMYE59eb-oD",
        "colab_type": "text"
      },
      "source": [
        "#### **Finding out if time of year affects crime type**"
      ]
    },
    {
      "cell_type": "code",
      "metadata": {
        "id": "3II0su9rcChT",
        "colab_type": "code",
        "colab": {}
      },
      "source": [
        "cut_points = [0, 3, 6, 9, 12]\n",
        "label_names = ['0-3','4-6','7-9','10-12']\n",
        "arrests['months_categories'] = pd.cut(arrests['Occur_Month'], cut_points, labels=label_names)\n",
        "arrests['months_categories'].value_counts()"
      ],
      "execution_count": 0,
      "outputs": []
    },
    {
      "cell_type": "code",
      "metadata": {
        "id": "gZOMdJLNcF5z",
        "colab_type": "code",
        "colab": {}
      },
      "source": [
        "specific_months = pd.crosstab(arrests['Occur_Year'], arrests['months_categories']).drop([1916, 1920, 1970, 1973, 1976,\t1979, 1980,\t1991, \n",
        "                                    1993, 2000,\t2001,\t2003,\t2004,\t2005,\t2006, 2007,\t2008])\n",
        "specific_months = specific_months.T\n",
        "specific_months"
      ],
      "execution_count": 0,
      "outputs": []
    },
    {
      "cell_type": "code",
      "metadata": {
        "id": "b8zaxvMxcMdm",
        "colab_type": "code",
        "colab": {}
      },
      "source": [
        "#Plot figure\n",
        "plt.figure(figsize = (8, 8))\n",
        "ax = sns.lineplot(data = specific_months, hue = 'Occur_year', dashes= False, legend='brief', lw = 2)\n",
        "ax.legend(loc='upper center', bbox_to_anchor=(1.45, 1), shadow=True, ncol=1, fontsize = 11)\n",
        "\n",
        "# Title, Axes\n",
        "plt.title (\"Crimes View By Quarter\",\n",
        "          fontsize = 16,\n",
        "          fontweight = 'bold', \n",
        "          loc = 'left')\n",
        "\n",
        "\n",
        "plt.xticks(np.arange(4), ('Q1', 'Q2', 'Q3', 'Q4'))\n",
        "      \n",
        "\n",
        "plt.legend(fontsize = 8, \n",
        "           loc = 'upper right')\n",
        "\n",
        "plt.show()"
      ],
      "execution_count": 0,
      "outputs": []
    },
    {
      "cell_type": "markdown",
      "metadata": {
        "id": "xjBiUbuPq11o",
        "colab_type": "text"
      },
      "source": [
        "### **Time of Day** \n",
        "For 2019 sample data, looking how time of day affects the types of crimes that occur."
      ]
    },
    {
      "cell_type": "code",
      "metadata": {
        "id": "LN4GgNC1q7vG",
        "colab_type": "code",
        "colab": {}
      },
      "source": [
        "crime_2019['Occur Time'].value_counts()"
      ],
      "execution_count": 0,
      "outputs": []
    },
    {
      "cell_type": "markdown",
      "metadata": {
        "id": "QMKLjOKSrBwj",
        "colab_type": "text"
      },
      "source": [
        "Tried several methods to sort this column. This column has a dtype of object, so first I tried to convert to an hours and minutes format using the pd.to_date(crime_2019['Occur Time'], unit = 'm').dt.strftime('%H:%M'). This converted the the column into hours and minute but unfortunately, I was unable to sort this colum. Therefore, I did the next best thing and changed the column into an integers so that this column could be sorted and used for further exploration.\n",
        "\n"
      ]
    },
    {
      "cell_type": "code",
      "metadata": {
        "id": "QrCcPf8Vq_fK",
        "colab_type": "code",
        "colab": {}
      },
      "source": [
        "crime_2019['Occur Time'].dtype"
      ],
      "execution_count": 0,
      "outputs": []
    },
    {
      "cell_type": "code",
      "metadata": {
        "id": "a2OfkbNQrErM",
        "colab_type": "code",
        "colab": {}
      },
      "source": [
        "crime_2019 = crime_2019.copy()"
      ],
      "execution_count": 0,
      "outputs": []
    },
    {
      "cell_type": "code",
      "metadata": {
        "id": "t0CW6kGJrGe4",
        "colab_type": "code",
        "colab": {}
      },
      "source": [
        "crime_2019['Occur Time'] = crime_2019['Occur Time'].astype(int)"
      ],
      "execution_count": 0,
      "outputs": []
    },
    {
      "cell_type": "code",
      "metadata": {
        "id": "hAPQm2XtrIjF",
        "colab_type": "code",
        "colab": {}
      },
      "source": [
        "crime_2019['Occur Time'].dtype"
      ],
      "execution_count": 0,
      "outputs": []
    },
    {
      "cell_type": "code",
      "metadata": {
        "id": "fhI1yCIMrKcL",
        "colab_type": "code",
        "colab": {}
      },
      "source": [
        "bins = pd.interval_range(start = 0, freq = 100, end = 2400, closed ='left')\n",
        "crime_2019['time_categories'] = pd.cut(crime_2019['Occur Time'], bins = bins, duplicates = 'raise')"
      ],
      "execution_count": 0,
      "outputs": []
    },
    {
      "cell_type": "code",
      "metadata": {
        "id": "4jcyZ0OYrOQc",
        "colab_type": "code",
        "colab": {}
      },
      "source": [
        "crime_2019['time_categories'].value_counts()"
      ],
      "execution_count": 0,
      "outputs": []
    },
    {
      "cell_type": "code",
      "metadata": {
        "id": "FFgCYoUirRd-",
        "colab_type": "code",
        "colab": {}
      },
      "source": [
        "def new_column(x):\n",
        "  if 0 < x <100:\n",
        "    val = '12:00am'\n",
        "  elif 100 <= x < 200:\n",
        "    val = '1:00am'\n",
        "  elif 200 <= x < 300:\n",
        "    val = '2:00am' \n",
        "  elif 300 <= x < 400:\n",
        "    val = '3:00am'\n",
        "  elif 400 <= x < 500:\n",
        "    val = '4:00am'\n",
        "  elif 500 <= x < 600:\n",
        "    val = '5:00am'\n",
        "  elif 600 <= x < 700:\n",
        "    val = '6:00am'\n",
        "  elif 700 <= x < 800:\n",
        "    val = '7:00am'\n",
        "  elif 800 <= x < 900:\n",
        "    val = '8:00am'\n",
        "  elif 900 <= x < 1000:\n",
        "    val = '9:00am'\n",
        "  elif 1000 <= x < 1100:\n",
        "    val = '10:00am'\n",
        "  elif 1100 <= x < 1200:\n",
        "    val = '11:00am'\n",
        "  elif 1200 <= x < 1300:\n",
        "    val = '12:00pm'\n",
        "  elif 1300 <= x < 1400:\n",
        "    val = '1:00pm'\n",
        "  elif 1400 <= x < 1500:\n",
        "    val = '2:00pm' \n",
        "  elif 1500 <= x < 1600:\n",
        "    val = '3:00pm'\n",
        "  elif 1600 <= x < 1700:\n",
        "    val = '4:00pm'\n",
        "  elif 1700 <= x < 1800:\n",
        "    val = '5:00pm'\n",
        "  elif 1800 <= x < 1900:\n",
        "    val = '6:00pm'\n",
        "  elif 1900 <= x < 2000:\n",
        "    val = '7:00pm'\n",
        "  elif 2000 <= x < 2100:\n",
        "    val = '8:00pm'\n",
        "  elif 2100 <= x < 2200:\n",
        "    val = '9:00pm'\n",
        "  elif 2200 <= x < 2300:\n",
        "    val = '10:00pm'\n",
        "  else:\n",
        "    val = '11:00pm'\n",
        "  return val"
      ],
      "execution_count": 0,
      "outputs": []
    },
    {
      "cell_type": "code",
      "metadata": {
        "id": "QWlg009trT37",
        "colab_type": "code",
        "colab": {}
      },
      "source": [
        "crime_2019['Hours'] = crime_2019['Occur Time'].apply(new_column)"
      ],
      "execution_count": 0,
      "outputs": []
    },
    {
      "cell_type": "code",
      "metadata": {
        "id": "vR9CaO0wrVwx",
        "colab_type": "code",
        "colab": {}
      },
      "source": [
        "crime_2019['Hours'] = crime_2019['Occur Time'].apply(new_column)"
      ],
      "execution_count": 0,
      "outputs": []
    },
    {
      "cell_type": "markdown",
      "metadata": {
        "id": "799Cfcg_rXRf",
        "colab_type": "text"
      },
      "source": [
        "#### **Plotly Histogram (used loosely)**"
      ]
    },
    {
      "cell_type": "code",
      "metadata": {
        "id": "igEX6gJOrbNW",
        "colab_type": "code",
        "colab": {}
      },
      "source": [
        "fig2 = px.histogram(crime_2019, x = \"Hours\", color=\"UCR Literal\")\n",
        "fig2.update_xaxes({'categoryorder':'array', 'categoryarray':['12:00am', '1:00am','2:00am','3:00am','4:00am', '5:00am', '6:00am', '7:00am','8:00am','9:00am','10:00am', '11:00am', '12:00pm', '1:00pm','2:00pm','3:00pm','4:00pm', '5:00pm', '6:00pm', '7:00pm','8:00pm','9:00pm','10:00pm', '11:00pm']})\n",
        "fig2.show()"
      ],
      "execution_count": 0,
      "outputs": []
    },
    {
      "cell_type": "markdown",
      "metadata": {
        "id": "E1OunBpIrhXY",
        "colab_type": "text"
      },
      "source": [
        "#### **GeoPandas**\n",
        "Looking at times of crime by neighborhood\n",
        "\n",
        "Source: https://towardsdatascience.com/geopandas-101-plot-any-data-with-a-latitude-and-longitude-on-a-map-98e01944b972"
      ]
    },
    {
      "cell_type": "code",
      "metadata": {
        "id": "My5bB1tOrimn",
        "colab_type": "code",
        "colab": {}
      },
      "source": [
        "!pip install geopandas"
      ],
      "execution_count": 0,
      "outputs": []
    },
    {
      "cell_type": "code",
      "metadata": {
        "id": "inoWu0hErlTn",
        "colab_type": "code",
        "colab": {}
      },
      "source": [
        "!pip install descartes"
      ],
      "execution_count": 0,
      "outputs": []
    },
    {
      "cell_type": "code",
      "metadata": {
        "id": "Po9HQ5NYrovc",
        "colab_type": "code",
        "colab": {}
      },
      "source": [
        "import geopandas as gpd\n",
        "import pyproj \n",
        "from pyproj import CRS\n",
        "import descartes\n",
        "import shapely\n",
        "from shapely.geometry import Point, Polygon"
      ],
      "execution_count": 0,
      "outputs": []
    },
    {
      "cell_type": "code",
      "metadata": {
        "id": "c6-ou37_rqNt",
        "colab_type": "code",
        "colab": {}
      },
      "source": [
        "from google.colab import files\n",
        "upload = files.upload()"
      ],
      "execution_count": 0,
      "outputs": []
    },
    {
      "cell_type": "code",
      "metadata": {
        "id": "jKREEBKUrr6E",
        "colab_type": "code",
        "colab": {}
      },
      "source": [
        "shape = gpd.read_file('Cities_Georgia.shp')"
      ],
      "execution_count": 0,
      "outputs": []
    },
    {
      "cell_type": "code",
      "metadata": {
        "id": "H1ro-oXArt8r",
        "colab_type": "code",
        "colab": {}
      },
      "source": [
        "df = crime_2019.copy()\n",
        "crs_4326 = CRS(\"WGS84\")\n",
        "df.head()\n",
        "\n",
        "#https://pyproj4.github.io/pyproj/stable/gotchas.html#init-auth-auth-code-should-be-replaced-with-auth-auth-code (+init=<auth>:<auth_code> should be replaced with <auth>:<auth_code> )"
      ],
      "execution_count": 0,
      "outputs": []
    },
    {
      "cell_type": "code",
      "metadata": {
        "id": "BxB9wQGFrwYo",
        "colab_type": "code",
        "colab": {}
      },
      "source": [
        "geometry = [Point(xy) for xy in zip(df['Longitude'], df['Latitude'])]\n",
        "geometry[:3]"
      ],
      "execution_count": 0,
      "outputs": []
    },
    {
      "cell_type": "code",
      "metadata": {
        "id": "ezNCFRcPrzEd",
        "colab_type": "code",
        "colab": {}
      },
      "source": [
        "geo_df = gpd.GeoDataFrame(df, #specify our data\n",
        "                          crs = crs_4326, #specify our coordinate reference system\n",
        "                          geometry = geometry) #specify the geometry list we created\n",
        "geo_df.head()"
      ],
      "execution_count": 0,
      "outputs": []
    },
    {
      "cell_type": "code",
      "metadata": {
        "id": "lKwwrJAvr2fd",
        "colab_type": "code",
        "colab": {}
      },
      "source": [
        "print(geo_df['Latitude'].min(),geo_df['Latitude'].max() )\n",
        "print(geo_df['Longitude'].min(),geo_df['Longitude'].max() )"
      ],
      "execution_count": 0,
      "outputs": []
    },
    {
      "cell_type": "code",
      "metadata": {
        "id": "a8cOng3Br3uo",
        "colab_type": "code",
        "colab": {}
      },
      "source": [
        "fig, ax = plt.subplots(figsize = (10, 15))\n",
        "\n",
        "plt.xlim(-84.55, -84.29)\n",
        "plt.ylim(33.64, 33.88)\n",
        "shape.plot(ax = ax, alpha = 0.4, color = 'grey' )\n",
        "\n",
        "geo_df[geo_df['Hours'] == '12:00am'].plot(ax = ax, markersize = 20, color = '#a6cee3', marker = 'o', label ='12:00am')\n",
        "geo_df[geo_df['Hours'] == '1:00am' ].plot(ax = ax, markersize = 20, color = '#1f78b4', marker = 'o', label ='1:00am' )\n",
        "geo_df[geo_df['Hours'] == '2:00am' ].plot(ax = ax, markersize = 20, color = '#b2df8a', marker = 'o', label ='2:00am' )\n",
        "geo_df[geo_df['Hours'] == '3:00am' ].plot(ax = ax, markersize = 20, color = '#33a02c', marker = 'o', label ='3:00am' )\n",
        "geo_df[geo_df['Hours'] == '4:00am' ].plot(ax = ax, markersize = 20, color = '#fb9a99', marker = 'o', label ='4:00am' )\n",
        "geo_df[geo_df['Hours'] == '5:00am' ].plot(ax = ax, markersize = 20, color = '#e31a1c', marker = 'o', label ='5:00am' )\n",
        "geo_df[geo_df['Hours'] == '6:00am' ].plot(ax = ax, markersize = 20, color = '#fdbf6f', marker = 'o', label ='6:00am' )\n",
        "geo_df[geo_df['Hours'] == '7:00am' ].plot(ax = ax, markersize = 20, color = '#ff7f00', marker = 'o', label ='7:00am' )\n",
        "geo_df[geo_df['Hours'] == '8:00am' ].plot(ax = ax, markersize = 20, color = '#cab2d6', marker = 'o', label ='8:00am' )\n",
        "geo_df[geo_df['Hours'] == '9:00am' ].plot(ax = ax, markersize = 20, color = '#6a3d9a', marker = 'o', label ='9:00am' )\n",
        "geo_df[geo_df['Hours'] == '10:00am'].plot(ax = ax, markersize = 20, color = '#ffff99', marker = 'o', label ='10:00am')\n",
        "geo_df[geo_df['Hours'] == '11:00am'].plot(ax = ax, markersize = 20, color = '#b15928', marker = 'o', label ='11:00am')\n",
        "geo_df[geo_df['Hours'] == '12:00pm'].plot(ax = ax, markersize = 20, color = '#8dd3c7', marker = 'o', label ='12:00pm')\n",
        "geo_df[geo_df['Hours'] == '1:00pm' ].plot(ax = ax, markersize = 20, color = '#ffffb3', marker = 'o', label ='1:00pm' )\n",
        "geo_df[geo_df['Hours'] == '2:00pm' ].plot(ax = ax, markersize = 20, color = '#bebada', marker = 'o', label ='2:00pm' )\n",
        "geo_df[geo_df['Hours'] == '3:00pm' ].plot(ax = ax, markersize = 20, color = '#fb8072', marker = 'o', label ='3:00pm' )\n",
        "geo_df[geo_df['Hours'] == '4:00pm' ].plot(ax = ax, markersize = 20, color = '#80b1d3', marker = 'o', label ='4:00pm' )\n",
        "geo_df[geo_df['Hours'] == '5:00pm' ].plot(ax = ax, markersize = 20, color = '#fdb462', marker = 'o', label ='5:00pm' )\n",
        "geo_df[geo_df['Hours'] == '6:00pm' ].plot(ax = ax, markersize = 20, color = '#b3de69', marker = 'o', label ='6:00pm' )\n",
        "geo_df[geo_df['Hours'] == '7:00pm' ].plot(ax = ax, markersize = 20, color = '#fccde5', marker = 'o', label ='7:00pm' )\n",
        "geo_df[geo_df['Hours'] == '8:00pm' ].plot(ax = ax, markersize = 20, color = '#d9d9d9', marker = 'o', label ='8:00pm' )\n",
        "geo_df[geo_df['Hours'] == '9:00pm' ].plot(ax = ax, markersize = 20, color = '#bc80bd', marker = 'o', label ='9:00m'  )\n",
        "geo_df[geo_df['Hours'] == '10:00pm'].plot(ax = ax, markersize = 20, color = '#ccebc5', marker = 'o', label ='10:00pm')\n",
        "geo_df[geo_df['Hours'] == '11:00pm'].plot(ax = ax, markersize = 20, color = '#ffed6f', marker = 'o', label ='11:00pm')\n",
        "#Geopandas did not seem to like using a loop for choosing colors, so I just cut and paste the above code - 24x to avoid an error\n",
        "\n",
        "ax.legend(loc='upper center', bbox_to_anchor=(1, 1), shadow=True, ncol=1, fontsize = 9)\n",
        "plt.show()"
      ],
      "execution_count": 0,
      "outputs": []
    },
    {
      "cell_type": "markdown",
      "metadata": {
        "id": "Q7KaFGesr8B_",
        "colab_type": "text"
      },
      "source": [
        "Wanted to work with a shp file to showcase crimes by time but did not find this as useful as the plotly express map."
      ]
    },
    {
      "cell_type": "markdown",
      "metadata": {
        "id": "Zx6RnWUir9MT",
        "colab_type": "text"
      },
      "source": [
        "#### **Scatter_mapbox**"
      ]
    },
    {
      "cell_type": "code",
      "metadata": {
        "id": "cNhgla3_sB9I",
        "colab_type": "code",
        "colab": {}
      },
      "source": [
        "fig = px.scatter_mapbox(crime_2019, lat='Latitude', lon='Longitude', color='Hours', opacity=1.0)\n",
        "fig.update_layout(mapbox_style='stamen-terrain')\n",
        "fig.show()"
      ],
      "execution_count": 0,
      "outputs": []
    },
    {
      "cell_type": "markdown",
      "metadata": {
        "id": "cWwfzHsksEsK",
        "colab_type": "text"
      },
      "source": [
        "This plot while interactive does not give as much information as the bar graph created above using the hours column in the crime_2019 sample dataset."
      ]
    }
  ]
}