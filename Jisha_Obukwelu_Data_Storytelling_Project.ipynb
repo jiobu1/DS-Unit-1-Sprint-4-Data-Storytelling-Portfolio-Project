{
  "nbformat": 4,
  "nbformat_minor": 0,
  "metadata": {
    "colab": {
      "name": "Copy of Jisha Obukwelu_Data Storytelling Project.ipynb",
      "provenance": [],
      "collapsed_sections": [],
      "include_colab_link": true
    },
    "kernelspec": {
      "name": "python3",
      "display_name": "Python 3"
    }
  },
  "cells": [
    {
      "cell_type": "markdown",
      "metadata": {
        "id": "view-in-github",
        "colab_type": "text"
      },
      "source": [
        "<a href=\"https://colab.research.google.com/github/jiobu1/DS-Unit-1-Sprint-4-Data-Storytelling-Portfolio-Project/blob/master/Jisha_Obukwelu_Data_Storytelling_Project.ipynb\" target=\"_parent\"><img src=\"https://colab.research.google.com/assets/colab-badge.svg\" alt=\"Open In Colab\"/></a>"
      ]
    },
    {
      "cell_type": "markdown",
      "metadata": {
        "id": "4TT1v9uTqb3Q",
        "colab_type": "text"
      },
      "source": [
        "#ATLANTA ARRESTS RECORDS FOR THE PAST DECADE\n",
        "#2009-2019"
      ]
    },
    {
      "cell_type": "markdown",
      "metadata": {
        "id": "R_lIR2u0jU6C",
        "colab_type": "text"
      },
      "source": [
        "####Loading libraries "
      ]
    },
    {
      "cell_type": "code",
      "metadata": {
        "id": "uYSZjc5nlTQz",
        "colab_type": "code",
        "colab": {}
      },
      "source": [
        "#Import different libraries\n",
        "import pandas as pd\n",
        "import numpy as np\n",
        "\n",
        "import matplotlib.pyplot as plt\n",
        "import matplotlib.cm as mplcm\n",
        "import matplotlib.colors as colors\n",
        "import seaborn as sns\n",
        "\n",
        "from scipy import stats \n",
        "from scipy.stats import ttest_ind, ttest_ind_from_stats, ttest_rel\n",
        "from scipy.stats import chisquare\n",
        "from scipy.stats import normaltest\n",
        "from scipy.stats import ks_2samp"
      ],
      "execution_count": 0,
      "outputs": []
    },
    {
      "cell_type": "markdown",
      "metadata": {
        "id": "h2XWx9nljbYd",
        "colab_type": "text"
      },
      "source": [
        "####Loading Directories"
      ]
    },
    {
      "cell_type": "code",
      "metadata": {
        "id": "Vcv2w0-uvVO2",
        "colab_type": "code",
        "outputId": "afe45e60-4355-4526-84ee-129e3c264caa",
        "colab": {
          "base_uri": "https://localhost:8080/",
          "height": 52
        }
      },
      "source": [
        "# !rm 'COBRA-2009-2018.csv'\n",
        "# !rm 'COBRA-2019-CSV.csv'"
      ],
      "execution_count": 0,
      "outputs": [
        {
          "output_type": "stream",
          "text": [
            "rm: cannot remove 'COBRA-2009-2018.csv': No such file or directory\n",
            "rm: cannot remove 'COBRA-2019-CSV.csv': No such file or directory\n"
          ],
          "name": "stdout"
        }
      ]
    },
    {
      "cell_type": "code",
      "metadata": {
        "id": "y7atymG2ou4w",
        "colab_type": "code",
        "outputId": "1b8a9be3-9c34-482e-fe33-4c575e894ed0",
        "colab": {
          "resources": {
            "http://localhost:8080/nbextensions/google.colab/files.js": {
              "data": "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",
              "ok": true,
              "headers": [
                [
                  "content-type",
                  "application/javascript"
                ]
              ],
              "status": 200,
              "status_text": ""
            }
          },
          "base_uri": "https://localhost:8080/",
          "height": 71
        }
      },
      "source": [
        "#Loading files\n",
        "from google.colab import files\n",
        "upload = files.upload()"
      ],
      "execution_count": 2,
      "outputs": [
        {
          "output_type": "display_data",
          "data": {
            "text/html": [
              "\n",
              "     <input type=\"file\" id=\"files-cc09482a-3193-4fb2-b662-24441996e6f2\" name=\"files[]\" multiple disabled />\n",
              "     <output id=\"result-cc09482a-3193-4fb2-b662-24441996e6f2\">\n",
              "      Upload widget is only available when the cell has been executed in the\n",
              "      current browser session. Please rerun this cell to enable.\n",
              "      </output>\n",
              "      <script src=\"/nbextensions/google.colab/files.js\"></script> "
            ],
            "text/plain": [
              "<IPython.core.display.HTML object>"
            ]
          },
          "metadata": {
            "tags": []
          }
        },
        {
          "output_type": "stream",
          "text": [
            "Saving COBRA-2009-2019.csv to COBRA-2009-2019.csv\n"
          ],
          "name": "stdout"
        }
      ]
    },
    {
      "cell_type": "code",
      "metadata": {
        "id": "2vG8wfUeq53i",
        "colab_type": "code",
        "outputId": "038cfd22-0d58-4fff-94aa-02de76173d3b",
        "colab": {
          "base_uri": "https://localhost:8080/",
          "height": 71
        }
      },
      "source": [
        "arrests = pd.read_csv('COBRA-2009-2019.csv')\n",
        "                    \n",
        "#did not pass through dtype becasue this deleted a lot of the information"
      ],
      "execution_count": 25,
      "outputs": [
        {
          "output_type": "stream",
          "text": [
            "/usr/local/lib/python3.6/dist-packages/IPython/core/interactiveshell.py:2718: DtypeWarning: Columns (3,11) have mixed types. Specify dtype option on import or set low_memory=False.\n",
            "  interactivity=interactivity, compiler=compiler, result=result)\n"
          ],
          "name": "stderr"
        }
      ]
    },
    {
      "cell_type": "markdown",
      "metadata": {
        "id": "S42oUUzajhTZ",
        "colab_type": "text"
      },
      "source": [
        "####Exploring Data"
      ]
    },
    {
      "cell_type": "code",
      "metadata": {
        "id": "KSQJx7jSqQZH",
        "colab_type": "code",
        "outputId": "09cdec9a-778b-4704-99ca-c408c080855b",
        "colab": {
          "base_uri": "https://localhost:8080/",
          "height": 34
        }
      },
      "source": [
        "arrests.shape"
      ],
      "execution_count": 26,
      "outputs": [
        {
          "output_type": "execute_result",
          "data": {
            "text/plain": [
              "(342914, 19)"
            ]
          },
          "metadata": {
            "tags": []
          },
          "execution_count": 26
        }
      ]
    },
    {
      "cell_type": "code",
      "metadata": {
        "id": "qTTxEeEnqSJZ",
        "colab_type": "code",
        "colab": {}
      },
      "source": [
        "arrests = arrests.drop([0], axis = 0)"
      ],
      "execution_count": 0,
      "outputs": []
    },
    {
      "cell_type": "code",
      "metadata": {
        "id": "S5vyJL-EqYRI",
        "colab_type": "code",
        "outputId": "a324779d-275a-4f81-bb3f-5155a9638201",
        "colab": {
          "base_uri": "https://localhost:8080/",
          "height": 34
        }
      },
      "source": [
        "arrests.shape"
      ],
      "execution_count": 28,
      "outputs": [
        {
          "output_type": "execute_result",
          "data": {
            "text/plain": [
              "(342913, 19)"
            ]
          },
          "metadata": {
            "tags": []
          },
          "execution_count": 28
        }
      ]
    },
    {
      "cell_type": "code",
      "metadata": {
        "id": "5N1e7LVpqaP1",
        "colab_type": "code",
        "outputId": "cfb8a570-9ab3-4fad-e123-da7c99ae05ca",
        "colab": {
          "base_uri": "https://localhost:8080/",
          "height": 428
        }
      },
      "source": [
        "arrests.head()"
      ],
      "execution_count": 29,
      "outputs": [
        {
          "output_type": "execute_result",
          "data": {
            "text/html": [
              "<div>\n",
              "<style scoped>\n",
              "    .dataframe tbody tr th:only-of-type {\n",
              "        vertical-align: middle;\n",
              "    }\n",
              "\n",
              "    .dataframe tbody tr th {\n",
              "        vertical-align: top;\n",
              "    }\n",
              "\n",
              "    .dataframe thead th {\n",
              "        text-align: right;\n",
              "    }\n",
              "</style>\n",
              "<table border=\"1\" class=\"dataframe\">\n",
              "  <thead>\n",
              "    <tr style=\"text-align: right;\">\n",
              "      <th></th>\n",
              "      <th>Report Number</th>\n",
              "      <th>Report Date</th>\n",
              "      <th>Occur Date</th>\n",
              "      <th>Occur Time</th>\n",
              "      <th>Possible Date</th>\n",
              "      <th>Possible Time</th>\n",
              "      <th>Beat</th>\n",
              "      <th>Apartment Office Prefix</th>\n",
              "      <th>Apartment Number</th>\n",
              "      <th>Location</th>\n",
              "      <th>Shift Occurence</th>\n",
              "      <th>Location Type</th>\n",
              "      <th>UCR Literal</th>\n",
              "      <th>UCR #</th>\n",
              "      <th>IBR Code</th>\n",
              "      <th>Neighborhood</th>\n",
              "      <th>NPU</th>\n",
              "      <th>Latitude</th>\n",
              "      <th>Longitude</th>\n",
              "    </tr>\n",
              "  </thead>\n",
              "  <tbody>\n",
              "    <tr>\n",
              "      <th>1</th>\n",
              "      <td>90011083</td>\n",
              "      <td>2009-01-01</td>\n",
              "      <td>2009-01-01</td>\n",
              "      <td>1330</td>\n",
              "      <td>2009-01-01</td>\n",
              "      <td>1330.0</td>\n",
              "      <td>511.0</td>\n",
              "      <td>NaN</td>\n",
              "      <td>NaN</td>\n",
              "      <td>12 BROAD ST SW</td>\n",
              "      <td>Day Watch</td>\n",
              "      <td>9</td>\n",
              "      <td>LARCENY-NON VEHICLE</td>\n",
              "      <td>630</td>\n",
              "      <td>2303</td>\n",
              "      <td>Downtown</td>\n",
              "      <td>M</td>\n",
              "      <td>33.75320</td>\n",
              "      <td>-84.39201</td>\n",
              "    </tr>\n",
              "    <tr>\n",
              "      <th>2</th>\n",
              "      <td>90011208</td>\n",
              "      <td>2009-01-01</td>\n",
              "      <td>2009-01-01</td>\n",
              "      <td>1500</td>\n",
              "      <td>2009-01-01</td>\n",
              "      <td>1520.0</td>\n",
              "      <td>407.0</td>\n",
              "      <td>NaN</td>\n",
              "      <td>NaN</td>\n",
              "      <td>3500 MARTIN L KING JR DR SW</td>\n",
              "      <td>Unknown</td>\n",
              "      <td>8</td>\n",
              "      <td>LARCENY-NON VEHICLE</td>\n",
              "      <td>630</td>\n",
              "      <td>2303</td>\n",
              "      <td>Adamsville</td>\n",
              "      <td>H</td>\n",
              "      <td>33.75735</td>\n",
              "      <td>-84.50282</td>\n",
              "    </tr>\n",
              "    <tr>\n",
              "      <th>3</th>\n",
              "      <td>90011218</td>\n",
              "      <td>2009-01-01</td>\n",
              "      <td>2009-01-01</td>\n",
              "      <td>1450</td>\n",
              "      <td>2009-01-01</td>\n",
              "      <td>1510.0</td>\n",
              "      <td>210.0</td>\n",
              "      <td>NaN</td>\n",
              "      <td>NaN</td>\n",
              "      <td>3393 PEACHTREE RD NE</td>\n",
              "      <td>Evening Watch</td>\n",
              "      <td>8</td>\n",
              "      <td>LARCENY-NON VEHICLE</td>\n",
              "      <td>630</td>\n",
              "      <td>2303</td>\n",
              "      <td>Lenox</td>\n",
              "      <td>B</td>\n",
              "      <td>33.84676</td>\n",
              "      <td>-84.36212</td>\n",
              "    </tr>\n",
              "    <tr>\n",
              "      <th>4</th>\n",
              "      <td>90011289</td>\n",
              "      <td>2009-01-01</td>\n",
              "      <td>2009-01-01</td>\n",
              "      <td>1600</td>\n",
              "      <td>2009-01-01</td>\n",
              "      <td>1700.0</td>\n",
              "      <td>411.0</td>\n",
              "      <td>NaN</td>\n",
              "      <td>NaN</td>\n",
              "      <td>2841 GREENBRIAR PKWY SW</td>\n",
              "      <td>Unknown</td>\n",
              "      <td>8</td>\n",
              "      <td>LARCENY-NON VEHICLE</td>\n",
              "      <td>630</td>\n",
              "      <td>2303</td>\n",
              "      <td>Greenbriar</td>\n",
              "      <td>R</td>\n",
              "      <td>33.68677</td>\n",
              "      <td>-84.49773</td>\n",
              "    </tr>\n",
              "    <tr>\n",
              "      <th>5</th>\n",
              "      <td>90011327</td>\n",
              "      <td>2009-01-01</td>\n",
              "      <td>2009-01-01</td>\n",
              "      <td>1645</td>\n",
              "      <td>2009-01-01</td>\n",
              "      <td>1645.0</td>\n",
              "      <td>609.0</td>\n",
              "      <td>NaN</td>\n",
              "      <td>NaN</td>\n",
              "      <td>1217 CAROLINE ST NE</td>\n",
              "      <td>Evening Watch</td>\n",
              "      <td>24</td>\n",
              "      <td>LARCENY-NON VEHICLE</td>\n",
              "      <td>630</td>\n",
              "      <td>2303</td>\n",
              "      <td>Edgewood</td>\n",
              "      <td>O</td>\n",
              "      <td>33.75786</td>\n",
              "      <td>-84.34875</td>\n",
              "    </tr>\n",
              "  </tbody>\n",
              "</table>\n",
              "</div>"
            ],
            "text/plain": [
              "   Report Number Report Date  Occur Date  ... NPU  Latitude  Longitude\n",
              "1       90011083  2009-01-01  2009-01-01  ...   M  33.75320  -84.39201\n",
              "2       90011208  2009-01-01  2009-01-01  ...   H  33.75735  -84.50282\n",
              "3       90011218  2009-01-01  2009-01-01  ...   B  33.84676  -84.36212\n",
              "4       90011289  2009-01-01  2009-01-01  ...   R  33.68677  -84.49773\n",
              "5       90011327  2009-01-01  2009-01-01  ...   O  33.75786  -84.34875\n",
              "\n",
              "[5 rows x 19 columns]"
            ]
          },
          "metadata": {
            "tags": []
          },
          "execution_count": 29
        }
      ]
    },
    {
      "cell_type": "markdown",
      "metadata": {
        "id": "lw1-Wj6Imydc",
        "colab_type": "text"
      },
      "source": [
        "## Data Cleaning"
      ]
    },
    {
      "cell_type": "code",
      "metadata": {
        "id": "SWxPK1QHgtgv",
        "colab_type": "code",
        "outputId": "ec3955e1-d00c-4845-e70e-15b5d7605dec",
        "colab": {
          "base_uri": "https://localhost:8080/",
          "height": 68
        }
      },
      "source": [
        "arrests[['UCR #', 'IBR Code']].nunique()"
      ],
      "execution_count": 30,
      "outputs": [
        {
          "output_type": "execute_result",
          "data": {
            "text/plain": [
              "UCR #       52\n",
              "IBR Code    91\n",
              "dtype: int64"
            ]
          },
          "metadata": {
            "tags": []
          },
          "execution_count": 30
        }
      ]
    },
    {
      "cell_type": "code",
      "metadata": {
        "id": "s7BC4gbjvNT_",
        "colab_type": "code",
        "outputId": "3cc04cb0-8fb9-4379-aaf3-a798b93b8bb8",
        "colab": {
          "base_uri": "https://localhost:8080/",
          "height": 411
        }
      },
      "source": [
        "#Choosing columns\n",
        "arrests = arrests[['Report Date', 'Occur Date', 'Occur Time',\n",
        "                   'Beat', 'Location', 'Shift Occurence', 'Location Type', \n",
        "                   'UCR Literal', 'UCR #', 'IBR Code', 'Neighborhood', 'NPU', \n",
        "                   'Latitude','Longitude']]\n",
        "arrests.head()"
      ],
      "execution_count": 31,
      "outputs": [
        {
          "output_type": "execute_result",
          "data": {
            "text/html": [
              "<div>\n",
              "<style scoped>\n",
              "    .dataframe tbody tr th:only-of-type {\n",
              "        vertical-align: middle;\n",
              "    }\n",
              "\n",
              "    .dataframe tbody tr th {\n",
              "        vertical-align: top;\n",
              "    }\n",
              "\n",
              "    .dataframe thead th {\n",
              "        text-align: right;\n",
              "    }\n",
              "</style>\n",
              "<table border=\"1\" class=\"dataframe\">\n",
              "  <thead>\n",
              "    <tr style=\"text-align: right;\">\n",
              "      <th></th>\n",
              "      <th>Report Date</th>\n",
              "      <th>Occur Date</th>\n",
              "      <th>Occur Time</th>\n",
              "      <th>Beat</th>\n",
              "      <th>Location</th>\n",
              "      <th>Shift Occurence</th>\n",
              "      <th>Location Type</th>\n",
              "      <th>UCR Literal</th>\n",
              "      <th>UCR #</th>\n",
              "      <th>IBR Code</th>\n",
              "      <th>Neighborhood</th>\n",
              "      <th>NPU</th>\n",
              "      <th>Latitude</th>\n",
              "      <th>Longitude</th>\n",
              "    </tr>\n",
              "  </thead>\n",
              "  <tbody>\n",
              "    <tr>\n",
              "      <th>1</th>\n",
              "      <td>2009-01-01</td>\n",
              "      <td>2009-01-01</td>\n",
              "      <td>1330</td>\n",
              "      <td>511.0</td>\n",
              "      <td>12 BROAD ST SW</td>\n",
              "      <td>Day Watch</td>\n",
              "      <td>9</td>\n",
              "      <td>LARCENY-NON VEHICLE</td>\n",
              "      <td>630</td>\n",
              "      <td>2303</td>\n",
              "      <td>Downtown</td>\n",
              "      <td>M</td>\n",
              "      <td>33.75320</td>\n",
              "      <td>-84.39201</td>\n",
              "    </tr>\n",
              "    <tr>\n",
              "      <th>2</th>\n",
              "      <td>2009-01-01</td>\n",
              "      <td>2009-01-01</td>\n",
              "      <td>1500</td>\n",
              "      <td>407.0</td>\n",
              "      <td>3500 MARTIN L KING JR DR SW</td>\n",
              "      <td>Unknown</td>\n",
              "      <td>8</td>\n",
              "      <td>LARCENY-NON VEHICLE</td>\n",
              "      <td>630</td>\n",
              "      <td>2303</td>\n",
              "      <td>Adamsville</td>\n",
              "      <td>H</td>\n",
              "      <td>33.75735</td>\n",
              "      <td>-84.50282</td>\n",
              "    </tr>\n",
              "    <tr>\n",
              "      <th>3</th>\n",
              "      <td>2009-01-01</td>\n",
              "      <td>2009-01-01</td>\n",
              "      <td>1450</td>\n",
              "      <td>210.0</td>\n",
              "      <td>3393 PEACHTREE RD NE</td>\n",
              "      <td>Evening Watch</td>\n",
              "      <td>8</td>\n",
              "      <td>LARCENY-NON VEHICLE</td>\n",
              "      <td>630</td>\n",
              "      <td>2303</td>\n",
              "      <td>Lenox</td>\n",
              "      <td>B</td>\n",
              "      <td>33.84676</td>\n",
              "      <td>-84.36212</td>\n",
              "    </tr>\n",
              "    <tr>\n",
              "      <th>4</th>\n",
              "      <td>2009-01-01</td>\n",
              "      <td>2009-01-01</td>\n",
              "      <td>1600</td>\n",
              "      <td>411.0</td>\n",
              "      <td>2841 GREENBRIAR PKWY SW</td>\n",
              "      <td>Unknown</td>\n",
              "      <td>8</td>\n",
              "      <td>LARCENY-NON VEHICLE</td>\n",
              "      <td>630</td>\n",
              "      <td>2303</td>\n",
              "      <td>Greenbriar</td>\n",
              "      <td>R</td>\n",
              "      <td>33.68677</td>\n",
              "      <td>-84.49773</td>\n",
              "    </tr>\n",
              "    <tr>\n",
              "      <th>5</th>\n",
              "      <td>2009-01-01</td>\n",
              "      <td>2009-01-01</td>\n",
              "      <td>1645</td>\n",
              "      <td>609.0</td>\n",
              "      <td>1217 CAROLINE ST NE</td>\n",
              "      <td>Evening Watch</td>\n",
              "      <td>24</td>\n",
              "      <td>LARCENY-NON VEHICLE</td>\n",
              "      <td>630</td>\n",
              "      <td>2303</td>\n",
              "      <td>Edgewood</td>\n",
              "      <td>O</td>\n",
              "      <td>33.75786</td>\n",
              "      <td>-84.34875</td>\n",
              "    </tr>\n",
              "  </tbody>\n",
              "</table>\n",
              "</div>"
            ],
            "text/plain": [
              "  Report Date  Occur Date Occur Time  ...  NPU  Latitude Longitude\n",
              "1  2009-01-01  2009-01-01       1330  ...    M  33.75320 -84.39201\n",
              "2  2009-01-01  2009-01-01       1500  ...    H  33.75735 -84.50282\n",
              "3  2009-01-01  2009-01-01       1450  ...    B  33.84676 -84.36212\n",
              "4  2009-01-01  2009-01-01       1600  ...    R  33.68677 -84.49773\n",
              "5  2009-01-01  2009-01-01       1645  ...    O  33.75786 -84.34875\n",
              "\n",
              "[5 rows x 14 columns]"
            ]
          },
          "metadata": {
            "tags": []
          },
          "execution_count": 31
        }
      ]
    },
    {
      "cell_type": "code",
      "metadata": {
        "id": "Xx3RVUWtkAJS",
        "colab_type": "code",
        "outputId": "f7407c20-76c1-4aa3-9c98-bc38cbf2d48c",
        "colab": {
          "base_uri": "https://localhost:8080/",
          "height": 34
        }
      },
      "source": [
        "arrests.shape"
      ],
      "execution_count": 32,
      "outputs": [
        {
          "output_type": "execute_result",
          "data": {
            "text/plain": [
              "(342913, 14)"
            ]
          },
          "metadata": {
            "tags": []
          },
          "execution_count": 32
        }
      ]
    },
    {
      "cell_type": "markdown",
      "metadata": {
        "id": "2waM3izcF7lX",
        "colab_type": "text"
      },
      "source": [
        "####Still cleaning data\n",
        "Analyzing how many null values are in the dataframe "
      ]
    },
    {
      "cell_type": "code",
      "metadata": {
        "id": "GB6FdaPukNZ4",
        "colab_type": "code",
        "outputId": "fa5e9090-4956-47c0-f262-c1aee8af1d64",
        "colab": {
          "base_uri": "https://localhost:8080/",
          "height": 272
        }
      },
      "source": [
        "arrests.isnull().sum()\n",
        "#Not sure if I want to delete null functions just yet"
      ],
      "execution_count": 33,
      "outputs": [
        {
          "output_type": "execute_result",
          "data": {
            "text/plain": [
              "Report Date            0\n",
              "Occur Date             0\n",
              "Occur Time             0\n",
              "Beat                  24\n",
              "Location               2\n",
              "Shift Occurence        0\n",
              "Location Type       9216\n",
              "UCR Literal            0\n",
              "UCR #                  0\n",
              "IBR Code             170\n",
              "Neighborhood       12363\n",
              "NPU                  139\n",
              "Latitude               0\n",
              "Longitude              0\n",
              "dtype: int64"
            ]
          },
          "metadata": {
            "tags": []
          },
          "execution_count": 33
        }
      ]
    },
    {
      "cell_type": "markdown",
      "metadata": {
        "id": "e0_IeAFDTUPa",
        "colab_type": "text"
      },
      "source": [
        "##Exploration\n"
      ]
    },
    {
      "cell_type": "markdown",
      "metadata": {
        "id": "YAXaBJGQTgaM",
        "colab_type": "text"
      },
      "source": [
        "###- Has crime gone down?\n",
        "\n"
      ]
    },
    {
      "cell_type": "markdown",
      "metadata": {
        "id": "7STOqk3SIfee",
        "colab_type": "text"
      },
      "source": [
        "1.   Crime increase/decrease by years\n",
        "2.   Specific crimes by year\n",
        "3.   Crime by the time of year\n",
        "\n",
        "\n"
      ]
    },
    {
      "cell_type": "code",
      "metadata": {
        "id": "fJolvMK1J80m",
        "colab_type": "code",
        "colab": {}
      },
      "source": [
        "#Parsing dates into years and months"
      ],
      "execution_count": 0,
      "outputs": []
    },
    {
      "cell_type": "code",
      "metadata": {
        "id": "lwIZq32PKDGA",
        "colab_type": "code",
        "outputId": "89934ac5-2452-4b41-e495-62510fe10c40",
        "colab": {
          "base_uri": "https://localhost:8080/",
          "height": 119
        }
      },
      "source": [
        "#Using occur date instead of report date or possible date\n",
        "arrests['Occur Date'].head()"
      ],
      "execution_count": 35,
      "outputs": [
        {
          "output_type": "execute_result",
          "data": {
            "text/plain": [
              "1    2009-01-01\n",
              "2    2009-01-01\n",
              "3    2009-01-01\n",
              "4    2009-01-01\n",
              "5    2009-01-01\n",
              "Name: Occur Date, dtype: object"
            ]
          },
          "metadata": {
            "tags": []
          },
          "execution_count": 35
        }
      ]
    },
    {
      "cell_type": "code",
      "metadata": {
        "id": "uNWGP7msqpRp",
        "colab_type": "code",
        "colab": {}
      },
      "source": [
        "#arrests['Occur Date'] = pd.to_datetime(arrests['Occur Date'], infer_datetime_format=True) This create a SetCopyWarning\n",
        "arrests['Occur Date'] = arrests['Occur Date'].apply(pd.to_datetime)"
      ],
      "execution_count": 0,
      "outputs": []
    },
    {
      "cell_type": "code",
      "metadata": {
        "id": "gbElaNAQqjgz",
        "colab_type": "code",
        "colab": {}
      },
      "source": [
        "arrests['Occur_Year'] = arrests['Occur Date'].dt.year\n",
        "arrests['Occur_Month'] = arrests['Occur Date'].dt.month"
      ],
      "execution_count": 0,
      "outputs": []
    },
    {
      "cell_type": "code",
      "metadata": {
        "id": "d-f8UWurSOTf",
        "colab_type": "code",
        "outputId": "aef7a71e-400c-4529-c326-b79755304113",
        "colab": {
          "base_uri": "https://localhost:8080/",
          "height": 411
        }
      },
      "source": [
        "arrests.head()"
      ],
      "execution_count": 39,
      "outputs": [
        {
          "output_type": "execute_result",
          "data": {
            "text/html": [
              "<div>\n",
              "<style scoped>\n",
              "    .dataframe tbody tr th:only-of-type {\n",
              "        vertical-align: middle;\n",
              "    }\n",
              "\n",
              "    .dataframe tbody tr th {\n",
              "        vertical-align: top;\n",
              "    }\n",
              "\n",
              "    .dataframe thead th {\n",
              "        text-align: right;\n",
              "    }\n",
              "</style>\n",
              "<table border=\"1\" class=\"dataframe\">\n",
              "  <thead>\n",
              "    <tr style=\"text-align: right;\">\n",
              "      <th></th>\n",
              "      <th>Report Date</th>\n",
              "      <th>Occur Date</th>\n",
              "      <th>Occur Time</th>\n",
              "      <th>Beat</th>\n",
              "      <th>Location</th>\n",
              "      <th>Shift Occurence</th>\n",
              "      <th>Location Type</th>\n",
              "      <th>UCR Literal</th>\n",
              "      <th>UCR #</th>\n",
              "      <th>IBR Code</th>\n",
              "      <th>Neighborhood</th>\n",
              "      <th>NPU</th>\n",
              "      <th>Latitude</th>\n",
              "      <th>Longitude</th>\n",
              "      <th>Occur_Year</th>\n",
              "      <th>Occur_Month</th>\n",
              "    </tr>\n",
              "  </thead>\n",
              "  <tbody>\n",
              "    <tr>\n",
              "      <th>1</th>\n",
              "      <td>2009-01-01</td>\n",
              "      <td>2009-01-01</td>\n",
              "      <td>1330</td>\n",
              "      <td>511.0</td>\n",
              "      <td>12 BROAD ST SW</td>\n",
              "      <td>Day Watch</td>\n",
              "      <td>9</td>\n",
              "      <td>LARCENY-NON VEHICLE</td>\n",
              "      <td>630</td>\n",
              "      <td>2303</td>\n",
              "      <td>Downtown</td>\n",
              "      <td>M</td>\n",
              "      <td>33.75320</td>\n",
              "      <td>-84.39201</td>\n",
              "      <td>2009</td>\n",
              "      <td>1</td>\n",
              "    </tr>\n",
              "    <tr>\n",
              "      <th>2</th>\n",
              "      <td>2009-01-01</td>\n",
              "      <td>2009-01-01</td>\n",
              "      <td>1500</td>\n",
              "      <td>407.0</td>\n",
              "      <td>3500 MARTIN L KING JR DR SW</td>\n",
              "      <td>Unknown</td>\n",
              "      <td>8</td>\n",
              "      <td>LARCENY-NON VEHICLE</td>\n",
              "      <td>630</td>\n",
              "      <td>2303</td>\n",
              "      <td>Adamsville</td>\n",
              "      <td>H</td>\n",
              "      <td>33.75735</td>\n",
              "      <td>-84.50282</td>\n",
              "      <td>2009</td>\n",
              "      <td>1</td>\n",
              "    </tr>\n",
              "    <tr>\n",
              "      <th>3</th>\n",
              "      <td>2009-01-01</td>\n",
              "      <td>2009-01-01</td>\n",
              "      <td>1450</td>\n",
              "      <td>210.0</td>\n",
              "      <td>3393 PEACHTREE RD NE</td>\n",
              "      <td>Evening Watch</td>\n",
              "      <td>8</td>\n",
              "      <td>LARCENY-NON VEHICLE</td>\n",
              "      <td>630</td>\n",
              "      <td>2303</td>\n",
              "      <td>Lenox</td>\n",
              "      <td>B</td>\n",
              "      <td>33.84676</td>\n",
              "      <td>-84.36212</td>\n",
              "      <td>2009</td>\n",
              "      <td>1</td>\n",
              "    </tr>\n",
              "    <tr>\n",
              "      <th>4</th>\n",
              "      <td>2009-01-01</td>\n",
              "      <td>2009-01-01</td>\n",
              "      <td>1600</td>\n",
              "      <td>411.0</td>\n",
              "      <td>2841 GREENBRIAR PKWY SW</td>\n",
              "      <td>Unknown</td>\n",
              "      <td>8</td>\n",
              "      <td>LARCENY-NON VEHICLE</td>\n",
              "      <td>630</td>\n",
              "      <td>2303</td>\n",
              "      <td>Greenbriar</td>\n",
              "      <td>R</td>\n",
              "      <td>33.68677</td>\n",
              "      <td>-84.49773</td>\n",
              "      <td>2009</td>\n",
              "      <td>1</td>\n",
              "    </tr>\n",
              "    <tr>\n",
              "      <th>5</th>\n",
              "      <td>2009-01-01</td>\n",
              "      <td>2009-01-01</td>\n",
              "      <td>1645</td>\n",
              "      <td>609.0</td>\n",
              "      <td>1217 CAROLINE ST NE</td>\n",
              "      <td>Evening Watch</td>\n",
              "      <td>24</td>\n",
              "      <td>LARCENY-NON VEHICLE</td>\n",
              "      <td>630</td>\n",
              "      <td>2303</td>\n",
              "      <td>Edgewood</td>\n",
              "      <td>O</td>\n",
              "      <td>33.75786</td>\n",
              "      <td>-84.34875</td>\n",
              "      <td>2009</td>\n",
              "      <td>1</td>\n",
              "    </tr>\n",
              "  </tbody>\n",
              "</table>\n",
              "</div>"
            ],
            "text/plain": [
              "  Report Date Occur Date Occur Time  ...  Longitude Occur_Year Occur_Month\n",
              "1  2009-01-01 2009-01-01       1330  ...  -84.39201       2009           1\n",
              "2  2009-01-01 2009-01-01       1500  ...  -84.50282       2009           1\n",
              "3  2009-01-01 2009-01-01       1450  ...  -84.36212       2009           1\n",
              "4  2009-01-01 2009-01-01       1600  ...  -84.49773       2009           1\n",
              "5  2009-01-01 2009-01-01       1645  ...  -84.34875       2009           1\n",
              "\n",
              "[5 rows x 16 columns]"
            ]
          },
          "metadata": {
            "tags": []
          },
          "execution_count": 39
        }
      ]
    },
    {
      "cell_type": "markdown",
      "metadata": {
        "id": "BH_rkzEgJunr",
        "colab_type": "text"
      },
      "source": [
        "####Crime increase/decrease by years"
      ]
    },
    {
      "cell_type": "code",
      "metadata": {
        "id": "Gi6ua1LFsZ9G",
        "colab_type": "code",
        "outputId": "818cf784-ac40-4c2d-d676-af06a06ad956",
        "colab": {
          "base_uri": "https://localhost:8080/",
          "height": 204
        }
      },
      "source": [
        "# Not including 2020 \n",
        "year = arrests['Occur_Year'].value_counts()[:11].to_dict()\n",
        "year"
      ],
      "execution_count": 40,
      "outputs": [
        {
          "output_type": "execute_result",
          "data": {
            "text/plain": [
              "{2009: 39325,\n",
              " 2010: 35529,\n",
              " 2011: 34852,\n",
              " 2012: 33382,\n",
              " 2013: 32398,\n",
              " 2014: 31115,\n",
              " 2015: 30058,\n",
              " 2016: 29006,\n",
              " 2017: 26386,\n",
              " 2018: 25611,\n",
              " 2019: 24853}"
            ]
          },
          "metadata": {
            "tags": []
          },
          "execution_count": 40
        }
      ]
    },
    {
      "cell_type": "code",
      "metadata": {
        "id": "0_kFERdSqutp",
        "colab_type": "code",
        "outputId": "c80349e5-c5b7-4aea-b6bc-39004033a865",
        "colab": {
          "base_uri": "https://localhost:8080/",
          "height": 368
        }
      },
      "source": [
        "# sorted by key, return a list of tuples\n",
        "lists = sorted(year.items()) \n",
        "\n",
        "# unpack a list of pairs into two tuples\n",
        "x, y = zip(*lists) \n",
        "\n",
        "# fig size\n",
        "fig, ax = plt.subplots(figsize = (10, 5))\n",
        "fig.facecolor = 'white'\n",
        "\n",
        "# graphing line\n",
        "plt.plot(x, y, marker = 'o', markerfacecolor='blue')\n",
        "\n",
        "# labeling graph\n",
        "plt.text (x = 2010, \n",
        "          y = 41000, \n",
        "          s = 'Decline in Crime in Atlanta', \n",
        "          fontsize = 18, \n",
        "          fontweight = 'bold')\n",
        "\n",
        "#Will not print\n",
        "plt.xlabel('Years', fontsize = 14, fontweight = 'bold')\n",
        "plt.ylabel('Arrests', fontsize = 14, fontweight = 'bold')\n",
        "\n",
        "# labeling data\n",
        "for i, txt in enumerate(y):\n",
        "    plt.annotate(txt, (x[i], y[i]))\n",
        "\n",
        "plt.show()"
      ],
      "execution_count": 41,
      "outputs": [
        {
          "output_type": "display_data",
          "data": {
            "image/png": "[encoded data removed]",
            "text/plain": [
              "<Figure size 720x360 with 1 Axes>"
            ]
          },
          "metadata": {
            "tags": []
          }
        }
      ]
    },
    {
      "cell_type": "markdown",
      "metadata": {
        "id": "r2bnj9bVGcmx",
        "colab_type": "text"
      },
      "source": [
        "From this graph we can see that overall crime has been down but does this reflect across the board for crimes, or are some crimes becoming more or less prevalent?"
      ]
    },
    {
      "cell_type": "markdown",
      "metadata": {
        "id": "nYM56pJxlN5j",
        "colab_type": "text"
      },
      "source": [
        "###- Has specific crimes gone down?"
      ]
    },
    {
      "cell_type": "markdown",
      "metadata": {
        "id": "EbyP40YVJ0uk",
        "colab_type": "text"
      },
      "source": [
        "#### Has all crime been declining?"
      ]
    },
    {
      "cell_type": "code",
      "metadata": {
        "id": "get2khxwUx_T",
        "colab_type": "code",
        "outputId": "b28d8146-4bc6-48e5-eb31-4ed9f9b6f6d0",
        "colab": {
          "base_uri": "https://localhost:8080/",
          "height": 221
        }
      },
      "source": [
        "arrests['UCR Literal'].value_counts()"
      ],
      "execution_count": 42,
      "outputs": [
        {
          "output_type": "execute_result",
          "data": {
            "text/plain": [
              "LARCENY-FROM VEHICLE    105630\n",
              "LARCENY-NON VEHICLE      81941\n",
              "BURGLARY-RESIDENCE       49577\n",
              "AUTO THEFT               47067\n",
              "AGG ASSAULT              25049\n",
              "ROBBERY-PEDESTRIAN       17167\n",
              "BURGLARY-NONRES          10950\n",
              "ROBBERY-COMMERCIAL        2317\n",
              "ROBBERY-RESIDENCE         2230\n",
              "HOMICIDE                   982\n",
              "MANSLAUGHTER                 3\n",
              "Name: UCR Literal, dtype: int64"
            ]
          },
          "metadata": {
            "tags": []
          },
          "execution_count": 42
        }
      ]
    },
    {
      "cell_type": "code",
      "metadata": {
        "id": "SeY0ucxf6TfG",
        "colab_type": "code",
        "outputId": "d696d944-6341-41f4-ddee-b703f6f9eeb7",
        "colab": {
          "base_uri": "https://localhost:8080/",
          "height": 475
        }
      },
      "source": [
        "#Calculating  specific crimes by years\n",
        "crime_year = pd.crosstab(arrests['Occur_Year'], arrests['UCR Literal'])\n",
        "\n",
        "crime_year  = crime_year.drop([1916, 1920, 1970, 1973, 1976,\t1979, 1980,\t1991, \n",
        "                 1993, 2000,\t2001,\t2003,\t2004,\t2005,\t2006, 2007,\t2008])\n",
        "\n",
        "crime_year"
      ],
      "execution_count": 45,
      "outputs": [
        {
          "output_type": "execute_result",
          "data": {
            "text/html": [
              "<div>\n",
              "<style scoped>\n",
              "    .dataframe tbody tr th:only-of-type {\n",
              "        vertical-align: middle;\n",
              "    }\n",
              "\n",
              "    .dataframe tbody tr th {\n",
              "        vertical-align: top;\n",
              "    }\n",
              "\n",
              "    .dataframe thead th {\n",
              "        text-align: right;\n",
              "    }\n",
              "</style>\n",
              "<table border=\"1\" class=\"dataframe\">\n",
              "  <thead>\n",
              "    <tr style=\"text-align: right;\">\n",
              "      <th>UCR Literal</th>\n",
              "      <th>AGG ASSAULT</th>\n",
              "      <th>AUTO THEFT</th>\n",
              "      <th>BURGLARY-NONRES</th>\n",
              "      <th>BURGLARY-RESIDENCE</th>\n",
              "      <th>HOMICIDE</th>\n",
              "      <th>LARCENY-FROM VEHICLE</th>\n",
              "      <th>LARCENY-NON VEHICLE</th>\n",
              "      <th>MANSLAUGHTER</th>\n",
              "      <th>ROBBERY-COMMERCIAL</th>\n",
              "      <th>ROBBERY-PEDESTRIAN</th>\n",
              "      <th>ROBBERY-RESIDENCE</th>\n",
              "    </tr>\n",
              "    <tr>\n",
              "      <th>Occur_Year</th>\n",
              "      <th></th>\n",
              "      <th></th>\n",
              "      <th></th>\n",
              "      <th></th>\n",
              "      <th></th>\n",
              "      <th></th>\n",
              "      <th></th>\n",
              "      <th></th>\n",
              "      <th></th>\n",
              "      <th></th>\n",
              "      <th></th>\n",
              "    </tr>\n",
              "  </thead>\n",
              "  <tbody>\n",
              "    <tr>\n",
              "      <th>2009</th>\n",
              "      <td>2613</td>\n",
              "      <td>5625</td>\n",
              "      <td>1682</td>\n",
              "      <td>7393</td>\n",
              "      <td>77</td>\n",
              "      <td>10966</td>\n",
              "      <td>8294</td>\n",
              "      <td>0</td>\n",
              "      <td>296</td>\n",
              "      <td>2070</td>\n",
              "      <td>309</td>\n",
              "    </tr>\n",
              "    <tr>\n",
              "      <th>2010</th>\n",
              "      <td>2612</td>\n",
              "      <td>4996</td>\n",
              "      <td>1272</td>\n",
              "      <td>6713</td>\n",
              "      <td>89</td>\n",
              "      <td>9176</td>\n",
              "      <td>8510</td>\n",
              "      <td>0</td>\n",
              "      <td>218</td>\n",
              "      <td>1709</td>\n",
              "      <td>234</td>\n",
              "    </tr>\n",
              "    <tr>\n",
              "      <th>2011</th>\n",
              "      <td>2536</td>\n",
              "      <td>5205</td>\n",
              "      <td>996</td>\n",
              "      <td>6408</td>\n",
              "      <td>84</td>\n",
              "      <td>8589</td>\n",
              "      <td>8723</td>\n",
              "      <td>0</td>\n",
              "      <td>217</td>\n",
              "      <td>1826</td>\n",
              "      <td>268</td>\n",
              "    </tr>\n",
              "    <tr>\n",
              "      <th>2012</th>\n",
              "      <td>2521</td>\n",
              "      <td>5098</td>\n",
              "      <td>825</td>\n",
              "      <td>5326</td>\n",
              "      <td>83</td>\n",
              "      <td>8825</td>\n",
              "      <td>8438</td>\n",
              "      <td>0</td>\n",
              "      <td>179</td>\n",
              "      <td>1842</td>\n",
              "      <td>245</td>\n",
              "    </tr>\n",
              "    <tr>\n",
              "      <th>2013</th>\n",
              "      <td>2275</td>\n",
              "      <td>4483</td>\n",
              "      <td>971</td>\n",
              "      <td>4976</td>\n",
              "      <td>81</td>\n",
              "      <td>9343</td>\n",
              "      <td>7905</td>\n",
              "      <td>0</td>\n",
              "      <td>284</td>\n",
              "      <td>1882</td>\n",
              "      <td>198</td>\n",
              "    </tr>\n",
              "    <tr>\n",
              "      <th>2014</th>\n",
              "      <td>2238</td>\n",
              "      <td>4142</td>\n",
              "      <td>1030</td>\n",
              "      <td>4436</td>\n",
              "      <td>87</td>\n",
              "      <td>9459</td>\n",
              "      <td>7353</td>\n",
              "      <td>0</td>\n",
              "      <td>221</td>\n",
              "      <td>1938</td>\n",
              "      <td>211</td>\n",
              "    </tr>\n",
              "    <tr>\n",
              "      <th>2015</th>\n",
              "      <td>2156</td>\n",
              "      <td>4236</td>\n",
              "      <td>863</td>\n",
              "      <td>3921</td>\n",
              "      <td>87</td>\n",
              "      <td>9593</td>\n",
              "      <td>7044</td>\n",
              "      <td>0</td>\n",
              "      <td>235</td>\n",
              "      <td>1737</td>\n",
              "      <td>186</td>\n",
              "    </tr>\n",
              "    <tr>\n",
              "      <th>2016</th>\n",
              "      <td>2193</td>\n",
              "      <td>3849</td>\n",
              "      <td>976</td>\n",
              "      <td>3400</td>\n",
              "      <td>114</td>\n",
              "      <td>9995</td>\n",
              "      <td>6564</td>\n",
              "      <td>0</td>\n",
              "      <td>201</td>\n",
              "      <td>1508</td>\n",
              "      <td>206</td>\n",
              "    </tr>\n",
              "    <tr>\n",
              "      <th>2017</th>\n",
              "      <td>2036</td>\n",
              "      <td>3195</td>\n",
              "      <td>765</td>\n",
              "      <td>2629</td>\n",
              "      <td>86</td>\n",
              "      <td>9826</td>\n",
              "      <td>6433</td>\n",
              "      <td>0</td>\n",
              "      <td>157</td>\n",
              "      <td>1127</td>\n",
              "      <td>132</td>\n",
              "    </tr>\n",
              "    <tr>\n",
              "      <th>2018</th>\n",
              "      <td>1825</td>\n",
              "      <td>3219</td>\n",
              "      <td>797</td>\n",
              "      <td>2226</td>\n",
              "      <td>88</td>\n",
              "      <td>10259</td>\n",
              "      <td>6145</td>\n",
              "      <td>0</td>\n",
              "      <td>148</td>\n",
              "      <td>789</td>\n",
              "      <td>115</td>\n",
              "    </tr>\n",
              "    <tr>\n",
              "      <th>2019</th>\n",
              "      <td>2037</td>\n",
              "      <td>2969</td>\n",
              "      <td>754</td>\n",
              "      <td>2043</td>\n",
              "      <td>104</td>\n",
              "      <td>9525</td>\n",
              "      <td>6400</td>\n",
              "      <td>3</td>\n",
              "      <td>161</td>\n",
              "      <td>731</td>\n",
              "      <td>126</td>\n",
              "    </tr>\n",
              "  </tbody>\n",
              "</table>\n",
              "</div>"
            ],
            "text/plain": [
              "UCR Literal  AGG ASSAULT  AUTO THEFT  ...  ROBBERY-PEDESTRIAN  ROBBERY-RESIDENCE\n",
              "Occur_Year                            ...                                       \n",
              "2009                2613        5625  ...                2070                309\n",
              "2010                2612        4996  ...                1709                234\n",
              "2011                2536        5205  ...                1826                268\n",
              "2012                2521        5098  ...                1842                245\n",
              "2013                2275        4483  ...                1882                198\n",
              "2014                2238        4142  ...                1938                211\n",
              "2015                2156        4236  ...                1737                186\n",
              "2016                2193        3849  ...                1508                206\n",
              "2017                2036        3195  ...                1127                132\n",
              "2018                1825        3219  ...                 789                115\n",
              "2019                2037        2969  ...                 731                126\n",
              "\n",
              "[11 rows x 11 columns]"
            ]
          },
          "metadata": {
            "tags": []
          },
          "execution_count": 45
        }
      ]
    },
    {
      "cell_type": "code",
      "metadata": {
        "id": "_snhQvXXytAj",
        "colab_type": "code",
        "outputId": "d0e1670f-b70b-45c5-b37a-96b32ed31d2f",
        "colab": {
          "base_uri": "https://localhost:8080/",
          "height": 550
        }
      },
      "source": [
        "# Playing with loop to generate both lines and labels\n",
        "plt.style.use('fivethirtyeight')\n",
        "plt.figure(figsize = (10, 8))\n",
        "plt.backgroundcolor = '#f0f0f0'\n",
        "\n",
        "# Creating line plots\n",
        "plot_points = []\n",
        "\n",
        "crimes = crime_year.columns\n",
        "\n",
        "colors_array = ['#003f5c','#2f4b7c','#665191','#a05195',\n",
        "          '#d45087','#f95d6a','#ff7c43','#ffa600', \n",
        "          'black', 'purple', 'green']\n",
        "\n",
        "for crime, color in zip(crimes, colors_array):\n",
        "\n",
        "    points = plt.plot(crime_year[crime], marker='o', color = color)\n",
        "    plot_points.append(points)\n",
        "\n",
        "plot_points;\n",
        "\n",
        "# Title, Axes\n",
        "plt.title (\"Crime Over a Decade in Atlanta\",\n",
        "          fontsize = 16,\n",
        "          fontweight = 'bold', \n",
        "          loc = 'left');\n",
        "\n",
        "plt.xticks(range(2009, 2020, 1 ))\n",
        "plt.yticks(range(0, 11000, 1000))\n",
        "\n",
        "#Sometimes shows up and somethimes does not. \n",
        "plt.xlabel = ('Years')\n",
        "plt.ylabel = ('Arrests')\n",
        "\n",
        "#Labeling Lines\n",
        "text = []\n",
        "\n",
        "x_coordinates = [2013.1, 2010.1, 2012.1, 2012.5, 2009.5, 2013, 2014.5, 2013.5, 2011.1, 2010.1, 2016.1]\n",
        "y_coordinates = [2550, 5400, 1300, 5600, 100, 9900, 7550, -10, 400, 2100, 400]\n",
        "labels = ['Aggrevated Assault', 'Auto Theft', 'Burglary - Nonresidential', \n",
        "          'Burglary - Residential', '', 'Larceny from Vehicle', 'Larceny Non-Vehicle', \n",
        "          '', 'Robbery - Commercial', 'Robbery - Pedestrian', 'Robbery - Residential']\n",
        "rotations = [-2, 6, 3, -17, 0, 5, -16, 0, 0, 2, -1]\n",
        "\n",
        "\n",
        "for x, y, label, color, rotation in zip(x_coordinates, y_coordinates, labels, colors_array, rotations):\n",
        "\n",
        "  position = plt.text(x = x, y = y, s = label , color = color, fontsize = 9, weight = 'bold', rotation = rotation)\n",
        "  text.append(position)\n",
        "\n",
        "text;\n",
        "\n",
        "#Two Other Labels\n",
        "plt.text(x = 2009.5, y = 100, s = 'Homicide', color = colors_array[4], \n",
        "         fontsize = 9,  weight = 'bold', backgroundcolor = '#f0f0f0', rotation = 0)\n",
        "plt.text(x = 2013.5, y = -10, s = 'Manslaughter', color = colors_array[7], \n",
        "         fontsize = 9,  weight = 'bold', backgroundcolor = '#f0f0f0', rotation = 0 )\n",
        "\n",
        "\n",
        "plt.show"
      ],
      "execution_count": 47,
      "outputs": [
        {
          "output_type": "execute_result",
          "data": {
            "text/plain": [
              "<function matplotlib.pyplot.show>"
            ]
          },
          "metadata": {
            "tags": []
          },
          "execution_count": 47
        },
        {
          "output_type": "display_data",
          "data": {
            "image/png": "[encoded data removed]",
            "text/plain": [
              "<Figure size 720x576 with 1 Axes>"
            ]
          },
          "metadata": {
            "tags": []
          }
        }
      ]
    },
    {
      "cell_type": "markdown",
      "metadata": {
        "id": "A5ZjPKK0Qjzc",
        "colab_type": "text"
      },
      "source": [
        "All crimes have been on a downward trajectory except for vehicle larceny, auto theft, and nonresidential burglary. We will look at these areas closer later. "
      ]
    },
    {
      "cell_type": "markdown",
      "metadata": {
        "id": "ilZ6vRNqTYiw",
        "colab_type": "text"
      },
      "source": [
        "#### Finding out if time of year affects crime type"
      ]
    },
    {
      "cell_type": "code",
      "metadata": {
        "id": "GrwbU9l1NkM-",
        "colab_type": "code",
        "outputId": "12c37166-f0e9-4106-e0e6-55aaa4941981",
        "colab": {
          "base_uri": "https://localhost:8080/",
          "height": 102
        }
      },
      "source": [
        "cut_points = [0, 3, 6, 9, 12]\n",
        "label_names = ['0-3','4-6','7-9','10-12']\n",
        "arrests['months_categories'] = pd.cut(arrests['Occur_Month'], cut_points, labels=label_names)\n",
        "arrests['months_categories'].value_counts()"
      ],
      "execution_count": 54,
      "outputs": [
        {
          "output_type": "execute_result",
          "data": {
            "text/plain": [
              "7-9      91848\n",
              "10-12    88461\n",
              "4-6      87759\n",
              "0-3      74845\n",
              "Name: months_categories, dtype: int64"
            ]
          },
          "metadata": {
            "tags": []
          },
          "execution_count": 54
        }
      ]
    },
    {
      "cell_type": "code",
      "metadata": {
        "id": "su2HxNhqBRk4",
        "colab_type": "code",
        "outputId": "c2c30326-0ae6-429c-d74b-42e93d519c04",
        "colab": {
          "base_uri": "https://localhost:8080/",
          "height": 204
        }
      },
      "source": [
        "specific_months = pd.crosstab(arrests['Occur_Year'], arrests['months_categories']).drop([1916, 1920, 1970, 1973, 1976,\t1979, 1980,\t1991, \n",
        "                                    1993, 2000,\t2001,\t2003,\t2004,\t2005,\t2006, 2007,\t2008])\n",
        "specific_months = specific_months.T\n",
        "specific_months"
      ],
      "execution_count": 55,
      "outputs": [
        {
          "output_type": "execute_result",
          "data": {
            "text/html": [
              "<div>\n",
              "<style scoped>\n",
              "    .dataframe tbody tr th:only-of-type {\n",
              "        vertical-align: middle;\n",
              "    }\n",
              "\n",
              "    .dataframe tbody tr th {\n",
              "        vertical-align: top;\n",
              "    }\n",
              "\n",
              "    .dataframe thead th {\n",
              "        text-align: right;\n",
              "    }\n",
              "</style>\n",
              "<table border=\"1\" class=\"dataframe\">\n",
              "  <thead>\n",
              "    <tr style=\"text-align: right;\">\n",
              "      <th>Occur_Year</th>\n",
              "      <th>2009</th>\n",
              "      <th>2010</th>\n",
              "      <th>2011</th>\n",
              "      <th>2012</th>\n",
              "      <th>2013</th>\n",
              "      <th>2014</th>\n",
              "      <th>2015</th>\n",
              "      <th>2016</th>\n",
              "      <th>2017</th>\n",
              "      <th>2018</th>\n",
              "      <th>2019</th>\n",
              "    </tr>\n",
              "    <tr>\n",
              "      <th>months_categories</th>\n",
              "      <th></th>\n",
              "      <th></th>\n",
              "      <th></th>\n",
              "      <th></th>\n",
              "      <th></th>\n",
              "      <th></th>\n",
              "      <th></th>\n",
              "      <th></th>\n",
              "      <th></th>\n",
              "      <th></th>\n",
              "      <th></th>\n",
              "    </tr>\n",
              "  </thead>\n",
              "  <tbody>\n",
              "    <tr>\n",
              "      <th>0-3</th>\n",
              "      <td>9096</td>\n",
              "      <td>7377</td>\n",
              "      <td>7195</td>\n",
              "      <td>7281</td>\n",
              "      <td>7451</td>\n",
              "      <td>6617</td>\n",
              "      <td>6662</td>\n",
              "      <td>6459</td>\n",
              "      <td>5570</td>\n",
              "      <td>5812</td>\n",
              "      <td>5267</td>\n",
              "    </tr>\n",
              "    <tr>\n",
              "      <th>4-6</th>\n",
              "      <td>10180</td>\n",
              "      <td>9269</td>\n",
              "      <td>9253</td>\n",
              "      <td>8658</td>\n",
              "      <td>8475</td>\n",
              "      <td>7723</td>\n",
              "      <td>7711</td>\n",
              "      <td>7235</td>\n",
              "      <td>6477</td>\n",
              "      <td>6419</td>\n",
              "      <td>6323</td>\n",
              "    </tr>\n",
              "    <tr>\n",
              "      <th>7-9</th>\n",
              "      <td>10146</td>\n",
              "      <td>9518</td>\n",
              "      <td>9599</td>\n",
              "      <td>8986</td>\n",
              "      <td>8722</td>\n",
              "      <td>8275</td>\n",
              "      <td>8187</td>\n",
              "      <td>7922</td>\n",
              "      <td>7079</td>\n",
              "      <td>6622</td>\n",
              "      <td>6744</td>\n",
              "    </tr>\n",
              "    <tr>\n",
              "      <th>10-12</th>\n",
              "      <td>9903</td>\n",
              "      <td>9365</td>\n",
              "      <td>8805</td>\n",
              "      <td>8457</td>\n",
              "      <td>7750</td>\n",
              "      <td>8500</td>\n",
              "      <td>7498</td>\n",
              "      <td>7390</td>\n",
              "      <td>7260</td>\n",
              "      <td>6758</td>\n",
              "      <td>6519</td>\n",
              "    </tr>\n",
              "  </tbody>\n",
              "</table>\n",
              "</div>"
            ],
            "text/plain": [
              "Occur_Year          2009  2010  2011  2012  2013  ...  2015  2016  2017  2018  2019\n",
              "months_categories                                 ...                              \n",
              "0-3                 9096  7377  7195  7281  7451  ...  6662  6459  5570  5812  5267\n",
              "4-6                10180  9269  9253  8658  8475  ...  7711  7235  6477  6419  6323\n",
              "7-9                10146  9518  9599  8986  8722  ...  8187  7922  7079  6622  6744\n",
              "10-12               9903  9365  8805  8457  7750  ...  7498  7390  7260  6758  6519\n",
              "\n",
              "[4 rows x 11 columns]"
            ]
          },
          "metadata": {
            "tags": []
          },
          "execution_count": 55
        }
      ]
    },
    {
      "cell_type": "code",
      "metadata": {
        "id": "3mw4B8q1NX0x",
        "colab_type": "code",
        "outputId": "2d82d697-4256-4d7e-f473-a6508c8540e2",
        "colab": {
          "base_uri": "https://localhost:8080/",
          "height": 322
        }
      },
      "source": [
        "# Playing with loop to generate both lines and labels\n",
        "plt.style.use('fivethirtyeight')\n",
        "figsize = (15, 10)\n",
        "plt.backgroundcolor = '#f0f0f0'\n",
        "\n",
        "specific_months.plot()\n",
        "\n",
        "# Title, Axes\n",
        "plt.title (\"Crimes View By Quarter\",\n",
        "          fontsize = 16,\n",
        "          fontweight = 'bold', \n",
        "          loc = 'left')\n",
        "\n",
        "# plt.xlabel('Quarter')    \n",
        "# plt.ylabel('Crime Rate')      \n",
        "\n",
        "plt.legend(fontsize = 8, \n",
        "           loc = 'upper right')\n",
        "\n",
        "plt.show()\n",
        "\n",
        "#plot by quarter"
      ],
      "execution_count": 56,
      "outputs": [
        {
          "output_type": "display_data",
          "data": {
            "image/png": "[encoded data removed]",
            "text/plain": [
              "<Figure size 432x288 with 1 Axes>"
            ]
          },
          "metadata": {
            "tags": []
          }
        }
      ]
    },
    {
      "cell_type": "markdown",
      "metadata": {
        "id": "ExND4dGDMw0R",
        "colab_type": "text"
      },
      "source": [
        "In this chart you can see that there is a rise in crime during the warmer months. 2014 and 2017 are the only ones that are an exception to this rule, both of these years crime increased in the later part of the year."
      ]
    },
    {
      "cell_type": "markdown",
      "metadata": {
        "id": "ZEEJA9Ltk9La",
        "colab_type": "text"
      },
      "source": [
        "###Neighorhood"
      ]
    },
    {
      "cell_type": "markdown",
      "metadata": {
        "id": "tnk0U9I9sAG_",
        "colab_type": "text"
      },
      "source": [
        "####Crime by neighborhoods"
      ]
    },
    {
      "cell_type": "code",
      "metadata": {
        "id": "6ZhQ65MXJzDW",
        "colab_type": "code",
        "colab": {}
      },
      "source": [
        "# Too many neighborhoods to evaluate\n",
        "# Will look at top 10"
      ],
      "execution_count": 0,
      "outputs": []
    },
    {
      "cell_type": "code",
      "metadata": {
        "id": "5UdRMLLtwhHC",
        "colab_type": "code",
        "outputId": "17f42954-f445-441f-9182-047e2186c61a",
        "colab": {
          "base_uri": "https://localhost:8080/",
          "height": 204
        }
      },
      "source": [
        "arrests['Neighborhood'].value_counts()[:10]"
      ],
      "execution_count": 57,
      "outputs": [
        {
          "output_type": "execute_result",
          "data": {
            "text/plain": [
              "Downtown           25386\n",
              "Midtown            18240\n",
              "Old Fourth Ward     9945\n",
              "West End            8506\n",
              "Lenox               6203\n",
              "North Buckhead      5651\n",
              "Vine City           5506\n",
              "Greenbriar          5486\n",
              "Sylvan Hills        5451\n",
              "Grant Park          5293\n",
              "Name: Neighborhood, dtype: int64"
            ]
          },
          "metadata": {
            "tags": []
          },
          "execution_count": 57
        }
      ]
    },
    {
      "cell_type": "code",
      "metadata": {
        "id": "O49aJpenKQVh",
        "colab_type": "code",
        "colab": {}
      },
      "source": [
        "areas = arrests['Neighborhood'].unique()\n",
        "list_to_remove = ['Downtown','Midtown','Old Fourth Ward','West End','Lenox',\n",
        "                  'North Buckhead ', 'Greenbriar','Vine City', 'Sylvan Hills',\n",
        "                  'Grant Park']\n",
        "\n",
        "final_list= list(set(areas).difference(set(list_to_remove)))\n",
        "final_list.pop(0)\n",
        "final_list.remove('North Buckhead')\n",
        "final_list;"
      ],
      "execution_count": 0,
      "outputs": []
    },
    {
      "cell_type": "code",
      "metadata": {
        "id": "Fa0m9BNZ8neZ",
        "colab_type": "code",
        "outputId": "18d9b326-6e7d-47cd-97b3-12f1bfce63de",
        "colab": {
          "base_uri": "https://localhost:8080/",
          "height": 34
        }
      },
      "source": [
        "#Checking that the top 10 neighborhoods are not in the final list to be deleted.\n",
        "'Vine City' in final_list"
      ],
      "execution_count": 59,
      "outputs": [
        {
          "output_type": "execute_result",
          "data": {
            "text/plain": [
              "False"
            ]
          },
          "metadata": {
            "tags": []
          },
          "execution_count": 59
        }
      ]
    },
    {
      "cell_type": "code",
      "metadata": {
        "id": "7yx-kyjmB3Ox",
        "colab_type": "code",
        "colab": {}
      },
      "source": [
        "neighborhood = pd.crosstab(arrests['Neighborhood'], arrests['Occur_Year'])\n",
        "neighborhood = neighborhood.drop(final_list);"
      ],
      "execution_count": 0,
      "outputs": []
    },
    {
      "cell_type": "code",
      "metadata": {
        "id": "yO103mIYw2m7",
        "colab_type": "code",
        "outputId": "0c0e8860-e470-4782-f734-9fc25e657d3d",
        "colab": {
          "base_uri": "https://localhost:8080/",
          "height": 438
        }
      },
      "source": [
        "neighborhood = neighborhood.T.drop([1916, 1920, 1970, 1973, 1976,\t1979, 1980,\t1991, \n",
        "                                    1993, 2000,\t2001,\t2003,\t2004,\t2005,\t2006, 2007,\t2008])\n",
        "neighborhood"
      ],
      "execution_count": 62,
      "outputs": [
        {
          "output_type": "execute_result",
          "data": {
            "text/html": [
              "<div>\n",
              "<style scoped>\n",
              "    .dataframe tbody tr th:only-of-type {\n",
              "        vertical-align: middle;\n",
              "    }\n",
              "\n",
              "    .dataframe tbody tr th {\n",
              "        vertical-align: top;\n",
              "    }\n",
              "\n",
              "    .dataframe thead th {\n",
              "        text-align: right;\n",
              "    }\n",
              "</style>\n",
              "<table border=\"1\" class=\"dataframe\">\n",
              "  <thead>\n",
              "    <tr style=\"text-align: right;\">\n",
              "      <th>Neighborhood</th>\n",
              "      <th>Downtown</th>\n",
              "      <th>Grant Park</th>\n",
              "      <th>Greenbriar</th>\n",
              "      <th>Lenox</th>\n",
              "      <th>Midtown</th>\n",
              "      <th>North Buckhead</th>\n",
              "      <th>Old Fourth Ward</th>\n",
              "      <th>Sylvan Hills</th>\n",
              "      <th>Vine City</th>\n",
              "      <th>West End</th>\n",
              "    </tr>\n",
              "    <tr>\n",
              "      <th>Occur_Year</th>\n",
              "      <th></th>\n",
              "      <th></th>\n",
              "      <th></th>\n",
              "      <th></th>\n",
              "      <th></th>\n",
              "      <th></th>\n",
              "      <th></th>\n",
              "      <th></th>\n",
              "      <th></th>\n",
              "      <th></th>\n",
              "    </tr>\n",
              "  </thead>\n",
              "  <tbody>\n",
              "    <tr>\n",
              "      <th>2009</th>\n",
              "      <td>3156</td>\n",
              "      <td>570</td>\n",
              "      <td>651</td>\n",
              "      <td>794</td>\n",
              "      <td>2224</td>\n",
              "      <td>582</td>\n",
              "      <td>1195</td>\n",
              "      <td>574</td>\n",
              "      <td>524</td>\n",
              "      <td>859</td>\n",
              "    </tr>\n",
              "    <tr>\n",
              "      <th>2010</th>\n",
              "      <td>2579</td>\n",
              "      <td>602</td>\n",
              "      <td>564</td>\n",
              "      <td>645</td>\n",
              "      <td>1760</td>\n",
              "      <td>592</td>\n",
              "      <td>1032</td>\n",
              "      <td>576</td>\n",
              "      <td>423</td>\n",
              "      <td>1030</td>\n",
              "    </tr>\n",
              "    <tr>\n",
              "      <th>2011</th>\n",
              "      <td>2660</td>\n",
              "      <td>563</td>\n",
              "      <td>543</td>\n",
              "      <td>569</td>\n",
              "      <td>1705</td>\n",
              "      <td>433</td>\n",
              "      <td>1199</td>\n",
              "      <td>628</td>\n",
              "      <td>376</td>\n",
              "      <td>956</td>\n",
              "    </tr>\n",
              "    <tr>\n",
              "      <th>2012</th>\n",
              "      <td>2203</td>\n",
              "      <td>516</td>\n",
              "      <td>556</td>\n",
              "      <td>546</td>\n",
              "      <td>1589</td>\n",
              "      <td>543</td>\n",
              "      <td>1080</td>\n",
              "      <td>558</td>\n",
              "      <td>449</td>\n",
              "      <td>838</td>\n",
              "    </tr>\n",
              "    <tr>\n",
              "      <th>2013</th>\n",
              "      <td>2344</td>\n",
              "      <td>540</td>\n",
              "      <td>576</td>\n",
              "      <td>550</td>\n",
              "      <td>1801</td>\n",
              "      <td>540</td>\n",
              "      <td>947</td>\n",
              "      <td>523</td>\n",
              "      <td>534</td>\n",
              "      <td>906</td>\n",
              "    </tr>\n",
              "    <tr>\n",
              "      <th>2014</th>\n",
              "      <td>2389</td>\n",
              "      <td>526</td>\n",
              "      <td>522</td>\n",
              "      <td>522</td>\n",
              "      <td>1715</td>\n",
              "      <td>493</td>\n",
              "      <td>879</td>\n",
              "      <td>498</td>\n",
              "      <td>638</td>\n",
              "      <td>814</td>\n",
              "    </tr>\n",
              "    <tr>\n",
              "      <th>2015</th>\n",
              "      <td>2262</td>\n",
              "      <td>424</td>\n",
              "      <td>416</td>\n",
              "      <td>624</td>\n",
              "      <td>1521</td>\n",
              "      <td>427</td>\n",
              "      <td>815</td>\n",
              "      <td>520</td>\n",
              "      <td>658</td>\n",
              "      <td>800</td>\n",
              "    </tr>\n",
              "    <tr>\n",
              "      <th>2016</th>\n",
              "      <td>1824</td>\n",
              "      <td>441</td>\n",
              "      <td>522</td>\n",
              "      <td>518</td>\n",
              "      <td>1309</td>\n",
              "      <td>544</td>\n",
              "      <td>784</td>\n",
              "      <td>501</td>\n",
              "      <td>595</td>\n",
              "      <td>681</td>\n",
              "    </tr>\n",
              "    <tr>\n",
              "      <th>2017</th>\n",
              "      <td>1814</td>\n",
              "      <td>352</td>\n",
              "      <td>427</td>\n",
              "      <td>520</td>\n",
              "      <td>1402</td>\n",
              "      <td>477</td>\n",
              "      <td>694</td>\n",
              "      <td>375</td>\n",
              "      <td>360</td>\n",
              "      <td>574</td>\n",
              "    </tr>\n",
              "    <tr>\n",
              "      <th>2018</th>\n",
              "      <td>2127</td>\n",
              "      <td>357</td>\n",
              "      <td>377</td>\n",
              "      <td>457</td>\n",
              "      <td>1528</td>\n",
              "      <td>536</td>\n",
              "      <td>566</td>\n",
              "      <td>360</td>\n",
              "      <td>506</td>\n",
              "      <td>537</td>\n",
              "    </tr>\n",
              "    <tr>\n",
              "      <th>2019</th>\n",
              "      <td>2000</td>\n",
              "      <td>393</td>\n",
              "      <td>331</td>\n",
              "      <td>452</td>\n",
              "      <td>1664</td>\n",
              "      <td>479</td>\n",
              "      <td>736</td>\n",
              "      <td>332</td>\n",
              "      <td>441</td>\n",
              "      <td>504</td>\n",
              "    </tr>\n",
              "  </tbody>\n",
              "</table>\n",
              "</div>"
            ],
            "text/plain": [
              "Neighborhood  Downtown  Grant Park  ...  Vine City  West End\n",
              "Occur_Year                          ...                     \n",
              "2009              3156         570  ...        524       859\n",
              "2010              2579         602  ...        423      1030\n",
              "2011              2660         563  ...        376       956\n",
              "2012              2203         516  ...        449       838\n",
              "2013              2344         540  ...        534       906\n",
              "2014              2389         526  ...        638       814\n",
              "2015              2262         424  ...        658       800\n",
              "2016              1824         441  ...        595       681\n",
              "2017              1814         352  ...        360       574\n",
              "2018              2127         357  ...        506       537\n",
              "2019              2000         393  ...        441       504\n",
              "\n",
              "[11 rows x 10 columns]"
            ]
          },
          "metadata": {
            "tags": []
          },
          "execution_count": 62
        }
      ]
    },
    {
      "cell_type": "markdown",
      "metadata": {
        "id": "rgk8KlaiMDbu",
        "colab_type": "text"
      },
      "source": [
        "According to this chart you can see that 5 out of these top 10 neighborhoods have seen a surge in crime in 2018. "
      ]
    },
    {
      "cell_type": "code",
      "metadata": {
        "id": "JHGamg-daF4s",
        "colab_type": "code",
        "outputId": "ddb8f0de-cddd-4760-8c36-fc7ee5ec724b",
        "colab": {
          "base_uri": "https://localhost:8080/",
          "height": 555
        }
      },
      "source": [
        "#Plot figure\n",
        "plt.figure(figsize = (10, 8))\n",
        "ax = sns.lineplot(data = neighborhood, hue = 'Neighborhood', dashes= False, legend='brief')\n",
        "plt.legend(fontsize = 10,  loc = 'best')\n",
        "\n",
        "# Title, Axes\n",
        "plt.title (\"Change in Crime in Speicific Neighborhoods\",\n",
        "          fontsize = 16,\n",
        "          fontweight = 'bold', \n",
        "          loc = 'left');\n",
        "\n",
        "plt.xticks(range(2009, 2020, 1 ))\n",
        "plt.yticks(range(0, 3500, 500))\n",
        "\n",
        "#Sometimes shows up and somethimes does not. \n",
        "ax.set(xlabel='Years', ylabel='Arrests')\n",
        "\n",
        "plt.show()"
      ],
      "execution_count": 63,
      "outputs": [
        {
          "output_type": "display_data",
          "data": {
            "image/png": "[encoded data removed]",
            "text/plain": [
              "<Figure size 720x576 with 1 Axes>"
            ]
          },
          "metadata": {
            "tags": []
          }
        }
      ]
    },
    {
      "cell_type": "markdown",
      "metadata": {
        "id": "54P-SlOch9Jh",
        "colab_type": "text"
      },
      "source": [
        "* Why do my axes labels not show up? Need to investigate.\n",
        "* Need to figure out how to increase spacing between tick spaces."
      ]
    },
    {
      "cell_type": "markdown",
      "metadata": {
        "id": "PIADdYDkjDQU",
        "colab_type": "text"
      },
      "source": [
        "**Looking further at neighborhoods that crime has gone up\n",
        "project breakdown**\n",
        "* Looking further at neighborhoods that crime has gone up\n",
        "* types of arrests by months by years\n",
        "* types of arrests according to neighborhood\n",
        "* crimes by time of day\n",
        "* crimes by hour for 1 day\n",
        "* look up population in neighborhoods to generate crime percentage\n",
        "\n",
        "**Visuals**\n",
        "Use Plotly\n",
        "- create map of crimes (cities in Atlanta)\n",
        "- interactive can pick crime, year, location\n",
        "\n",
        "**Blog Post**\n",
        "Interactive of different crimes images from media (insert clip about crime in Atlanta?)"
      ]
    }
  ]
}